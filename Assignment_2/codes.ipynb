{
 "cells": [
  {
   "cell_type": "markdown",
   "id": "a6023264",
   "metadata": {},
   "source": [
    "<div align=\"right\"><font face=\"Tahoma\" size=\"5\" color=blue>تمرین دوم درس علوم شناختی</font></div>"
   ]
  },
  {
   "cell_type": "markdown",
   "id": "ed9efd8b",
   "metadata": {},
   "source": [
    "<div align=\"right\"><font face=\"Tahoma\" size=\"4\" color=blue>مهیار ملکی</font></div>\n",
    "<div align=\"right\"><font face=\"Tahoma\" size=\"4\" color=blue>شماره دانشجویی : 810100476</font></div>"
   ]
  },
  {
   "cell_type": "markdown",
   "id": "7f701b7b",
   "metadata": {},
   "source": [
    "---"
   ]
  },
  {
   "cell_type": "code",
   "execution_count": 746,
   "id": "57913c21",
   "metadata": {},
   "outputs": [],
   "source": [
    "import pandas as pd\n",
    "import numpy as np\n",
    "import matplotlib.pyplot as plt\n",
    "import seaborn as sns\n",
    "sns.set_theme(style=\"whitegrid\")\n",
    "import statsmodels.api as sm\n",
    "from statsmodels.formula.api import ols, logit\n",
    "import re"
   ]
  },
  {
   "cell_type": "markdown",
   "id": "e6322f2a",
   "metadata": {},
   "source": [
    "---\n",
    "# Loading the data"
   ]
  },
  {
   "cell_type": "code",
   "execution_count": 506,
   "id": "c11f6155",
   "metadata": {},
   "outputs": [
    {
     "data": {
      "text/html": [
       "<div>\n",
       "<style scoped>\n",
       "    .dataframe tbody tr th:only-of-type {\n",
       "        vertical-align: middle;\n",
       "    }\n",
       "\n",
       "    .dataframe tbody tr th {\n",
       "        vertical-align: top;\n",
       "    }\n",
       "\n",
       "    .dataframe thead th {\n",
       "        text-align: right;\n",
       "    }\n",
       "</style>\n",
       "<table border=\"1\" class=\"dataframe\">\n",
       "  <thead>\n",
       "    <tr style=\"text-align: right;\">\n",
       "      <th></th>\n",
       "      <th>sbj</th>\n",
       "      <th>stm</th>\n",
       "      <th>rt</th>\n",
       "      <th>key</th>\n",
       "      <th>pos</th>\n",
       "      <th>uhnd</th>\n",
       "      <th>hndns</th>\n",
       "      <th>eye</th>\n",
       "      <th>sex</th>\n",
       "      <th>age</th>\n",
       "      <th>edu</th>\n",
       "      <th>size</th>\n",
       "    </tr>\n",
       "  </thead>\n",
       "  <tbody>\n",
       "    <tr>\n",
       "      <th>0</th>\n",
       "      <td>8101004202</td>\n",
       "      <td>50.bmp</td>\n",
       "      <td>3.825690</td>\n",
       "      <td>p</td>\n",
       "      <td>1.0</td>\n",
       "      <td>r</td>\n",
       "      <td>r</td>\n",
       "      <td>r</td>\n",
       "      <td>m</td>\n",
       "      <td>22.0</td>\n",
       "      <td>2.0</td>\n",
       "      <td>NaN</td>\n",
       "    </tr>\n",
       "    <tr>\n",
       "      <th>1</th>\n",
       "      <td>8101004202</td>\n",
       "      <td>60.bmp</td>\n",
       "      <td>2.733858</td>\n",
       "      <td>p</td>\n",
       "      <td>7.0</td>\n",
       "      <td>r</td>\n",
       "      <td>r</td>\n",
       "      <td>r</td>\n",
       "      <td>m</td>\n",
       "      <td>22.0</td>\n",
       "      <td>2.0</td>\n",
       "      <td>NaN</td>\n",
       "    </tr>\n",
       "    <tr>\n",
       "      <th>2</th>\n",
       "      <td>8101004202</td>\n",
       "      <td>60.bmp</td>\n",
       "      <td>1.618684</td>\n",
       "      <td>p</td>\n",
       "      <td>2.0</td>\n",
       "      <td>r</td>\n",
       "      <td>r</td>\n",
       "      <td>r</td>\n",
       "      <td>m</td>\n",
       "      <td>22.0</td>\n",
       "      <td>2.0</td>\n",
       "      <td>NaN</td>\n",
       "    </tr>\n",
       "    <tr>\n",
       "      <th>3</th>\n",
       "      <td>8101004202</td>\n",
       "      <td>50.bmp</td>\n",
       "      <td>0.925664</td>\n",
       "      <td>o</td>\n",
       "      <td>10.0</td>\n",
       "      <td>r</td>\n",
       "      <td>r</td>\n",
       "      <td>r</td>\n",
       "      <td>m</td>\n",
       "      <td>22.0</td>\n",
       "      <td>2.0</td>\n",
       "      <td>NaN</td>\n",
       "    </tr>\n",
       "    <tr>\n",
       "      <th>4</th>\n",
       "      <td>8101004202</td>\n",
       "      <td>30.bmp</td>\n",
       "      <td>3.540292</td>\n",
       "      <td>o</td>\n",
       "      <td>7.0</td>\n",
       "      <td>r</td>\n",
       "      <td>r</td>\n",
       "      <td>r</td>\n",
       "      <td>m</td>\n",
       "      <td>22.0</td>\n",
       "      <td>2.0</td>\n",
       "      <td>NaN</td>\n",
       "    </tr>\n",
       "  </tbody>\n",
       "</table>\n",
       "</div>"
      ],
      "text/plain": [
       "          sbj     stm        rt key   pos uhnd hndns eye sex   age  edu  size\n",
       "0  8101004202  50.bmp  3.825690   p   1.0    r     r   r   m  22.0  2.0   NaN\n",
       "1  8101004202  60.bmp  2.733858   p   7.0    r     r   r   m  22.0  2.0   NaN\n",
       "2  8101004202  60.bmp  1.618684   p   2.0    r     r   r   m  22.0  2.0   NaN\n",
       "3  8101004202  50.bmp  0.925664   o  10.0    r     r   r   m  22.0  2.0   NaN\n",
       "4  8101004202  30.bmp  3.540292   o   7.0    r     r   r   m  22.0  2.0   NaN"
      ]
     },
     "execution_count": 506,
     "metadata": {},
     "output_type": "execute_result"
    }
   ],
   "source": [
    "df = pd.read_csv('DataCognitive_Task2.csv', low_memory=False, index_col=[0]).reset_index(drop=True)\n",
    "df.head()"
   ]
  },
  {
   "cell_type": "markdown",
   "id": "a655cbd8",
   "metadata": {},
   "source": [
    "---\n",
    "# Cleaning the data"
   ]
  },
  {
   "cell_type": "markdown",
   "id": "370be2e5",
   "metadata": {},
   "source": [
    "subjects of 810100376 have been reported that their RT are in ms instead of s, so we corrected them :"
   ]
  },
  {
   "cell_type": "code",
   "execution_count": 507,
   "id": "91d37242",
   "metadata": {},
   "outputs": [],
   "source": [
    "df.loc[df['sbj'].str.contains('810100376') == True, 'rt'] *= 0.001"
   ]
  },
  {
   "cell_type": "markdown",
   "id": "a0d8ab54",
   "metadata": {},
   "source": [
    "also subjects of 810100019 have been reported that their POS are between 0-12 instead of 1-13, so we corrected them too :"
   ]
  },
  {
   "cell_type": "code",
   "execution_count": 508,
   "id": "440e98dd",
   "metadata": {
    "scrolled": true
   },
   "outputs": [],
   "source": [
    "df.loc[df['sbj'].str.contains('810100019') == True, 'pos'] += 1"
   ]
  },
  {
   "cell_type": "markdown",
   "id": "ec2c5ec9",
   "metadata": {},
   "source": [
    "now we calculate the quartiles and delete the outliers :"
   ]
  },
  {
   "cell_type": "code",
   "execution_count": 509,
   "id": "de06a23e",
   "metadata": {},
   "outputs": [],
   "source": [
    "q1 = df.rt.quantile(0.25)\n",
    "q3 = df.rt.quantile(0.75)\n",
    "iqr = q3 - q1"
   ]
  },
  {
   "cell_type": "code",
   "execution_count": 510,
   "id": "667840ae",
   "metadata": {},
   "outputs": [],
   "source": [
    "df_cleaned = df[ (df.rt < 1.5*iqr + q3) & (df.rt >  q1 - 1.5*iqr) ].copy()"
   ]
  },
  {
   "cell_type": "markdown",
   "id": "a70becd8",
   "metadata": {},
   "source": [
    "by ploting the rt column, everything seems to be fine :"
   ]
  },
  {
   "cell_type": "code",
   "execution_count": 511,
   "id": "52ff71bf",
   "metadata": {},
   "outputs": [
    {
     "data": {
      "image/png": "[encoded data removed]",
      "text/plain": [
       "<Figure size 432x288 with 1 Axes>"
      ]
     },
     "metadata": {},
     "output_type": "display_data"
    }
   ],
   "source": [
    "df_cleaned['rt'].hist();"
   ]
  },
  {
   "cell_type": "markdown",
   "id": "16f3b336",
   "metadata": {},
   "source": [
    "now we will correct Used Hand column\n",
    "\n",
    "by using the unique command we found out that some values are wrong, so we reconstruct the left and right hand values from the key column"
   ]
  },
  {
   "cell_type": "code",
   "execution_count": 512,
   "id": "3c61b332",
   "metadata": {},
   "outputs": [
    {
     "data": {
      "text/plain": [
       "array(['r', 'l', nan, 'I', '0.bmp', '10.bmp'], dtype=object)"
      ]
     },
     "execution_count": 512,
     "metadata": {},
     "output_type": "execute_result"
    }
   ],
   "source": [
    "df_cleaned['uhnd'].unique()"
   ]
  },
  {
   "cell_type": "code",
   "execution_count": 513,
   "id": "c3e50c5d",
   "metadata": {
    "scrolled": true
   },
   "outputs": [],
   "source": [
    "df_cleaned['uhnd'] = df_cleaned['key'].apply(lambda x: 'r' if x in ['o','p'] else ( 'l' if x in ['q','w'] else x))"
   ]
  },
  {
   "cell_type": "markdown",
   "id": "3d392e02",
   "metadata": {},
   "source": [
    "now we will correct Stimulus column\n",
    "\n",
    "in this column we keep only the number of pictures and remove useless parts like .bmp & Supplementary Material/ "
   ]
  },
  {
   "cell_type": "code",
   "execution_count": 514,
   "id": "cf50336c",
   "metadata": {},
   "outputs": [
    {
     "data": {
      "text/plain": [
       "array(['50.bmp', '70.bmp', '80.bmp', '60.bmp', '40.bmp', '0.bmp',\n",
       "       '20.bmp', '10.bmp', '30.bmp', 'Supplementary Material/20.bmp',\n",
       "       'Supplementary Material/60.bmp', 'Supplementary Material/70.bmp',\n",
       "       'Supplementary Material/50.bmp', 'Supplementary Material/10.bmp',\n",
       "       'Supplementary Material/40.bmp', 'Supplementary Material/30.bmp',\n",
       "       'Supplementary Material/80.bmp', 'Supplementary Material/0.bmp'],\n",
       "      dtype=object)"
      ]
     },
     "execution_count": 514,
     "metadata": {},
     "output_type": "execute_result"
    }
   ],
   "source": [
    "df_cleaned['stm'].unique()"
   ]
  },
  {
   "cell_type": "code",
   "execution_count": 515,
   "id": "35ddf5d8",
   "metadata": {},
   "outputs": [],
   "source": [
    "df_cleaned['stm'] = df_cleaned['stm'].apply(lambda x: re.findall(r'\\d+', x)[0])"
   ]
  },
  {
   "cell_type": "markdown",
   "id": "b9da24fe",
   "metadata": {},
   "source": [
    "stimulus and position columns are unreconstuctable by other columns, so we remove any row that have NaN values in these columns\n"
   ]
  },
  {
   "cell_type": "code",
   "execution_count": 516,
   "id": "80acd4b0",
   "metadata": {},
   "outputs": [],
   "source": [
    "df_cleaned.dropna(subset=['stm', 'pos'], inplace=True)"
   ]
  },
  {
   "cell_type": "markdown",
   "id": "1d130a60",
   "metadata": {},
   "source": [
    "also the size column has many Nan values and is useless, so we drop this column too"
   ]
  },
  {
   "cell_type": "code",
   "execution_count": 517,
   "id": "6a182c6e",
   "metadata": {},
   "outputs": [],
   "source": [
    "df_cleaned.drop('size', axis=1, inplace=True)"
   ]
  },
  {
   "cell_type": "markdown",
   "id": "1222ba07",
   "metadata": {},
   "source": [
    "now lets look at Not-Null counts of columns, it seems that eye column has one Nan value. It's not so important and we will fill it by its previous row"
   ]
  },
  {
   "cell_type": "code",
   "execution_count": 518,
   "id": "c0485be4",
   "metadata": {},
   "outputs": [
    {
     "name": "stdout",
     "output_type": "stream",
     "text": [
      "<class 'pandas.core.frame.DataFrame'>\n",
      "Int64Index: 112419 entries, 3 to 121694\n",
      "Data columns (total 11 columns):\n",
      " #   Column  Non-Null Count   Dtype  \n",
      "---  ------  --------------   -----  \n",
      " 0   sbj     112419 non-null  object \n",
      " 1   stm     112419 non-null  object \n",
      " 2   rt      112419 non-null  float64\n",
      " 3   key     112419 non-null  object \n",
      " 4   pos     112419 non-null  float64\n",
      " 5   uhnd    112419 non-null  object \n",
      " 6   hndns   112419 non-null  object \n",
      " 7   eye     112418 non-null  object \n",
      " 8   sex     112419 non-null  object \n",
      " 9   age     112419 non-null  float64\n",
      " 10  edu     112419 non-null  float64\n",
      "dtypes: float64(4), object(7)\n",
      "memory usage: 10.3+ MB\n"
     ]
    }
   ],
   "source": [
    "df_cleaned.info()"
   ]
  },
  {
   "cell_type": "code",
   "execution_count": 519,
   "id": "be13d574",
   "metadata": {},
   "outputs": [],
   "source": [
    "df_cleaned.fillna(method='bfill', inplace=True)"
   ]
  },
  {
   "cell_type": "markdown",
   "id": "0ec0d7fb",
   "metadata": {},
   "source": [
    "at the last we calculate the percentage of removed data. the percentage is more than 2 percent of primitive table, but it's inhevitable"
   ]
  },
  {
   "cell_type": "code",
   "execution_count": 520,
   "id": "4a75778a",
   "metadata": {},
   "outputs": [
    {
     "data": {
      "text/plain": [
       "(112419, 121695)"
      ]
     },
     "execution_count": 520,
     "metadata": {},
     "output_type": "execute_result"
    }
   ],
   "source": [
    "df_cleaned.shape[0], df.shape[0]"
   ]
  },
  {
   "cell_type": "code",
   "execution_count": 521,
   "id": "fd0a4a85",
   "metadata": {},
   "outputs": [
    {
     "name": "stdout",
     "output_type": "stream",
     "text": [
      "7 % of data has been removed\n"
     ]
    }
   ],
   "source": [
    "print( int((1-df_cleaned.shape[0]/df.shape[0])*100), '% of data has been removed')"
   ]
  },
  {
   "cell_type": "code",
   "execution_count": 562,
   "id": "b2a2a4af",
   "metadata": {},
   "outputs": [],
   "source": [
    "final_df = df_cleaned.copy()"
   ]
  },
  {
   "cell_type": "markdown",
   "id": "bcc7f8b2",
   "metadata": {},
   "source": [
    "---\n",
    "# Exploring the data"
   ]
  },
  {
   "cell_type": "markdown",
   "id": "783e11bd",
   "metadata": {},
   "source": [
    "### First we add the asked columns to table"
   ]
  },
  {
   "cell_type": "markdown",
   "id": "6e35655d",
   "metadata": {},
   "source": [
    "##### rt column in ms :"
   ]
  },
  {
   "cell_type": "code",
   "execution_count": 563,
   "id": "0a39adf3",
   "metadata": {},
   "outputs": [],
   "source": [
    "final_df['rt'] = final_df['rt']*1000"
   ]
  },
  {
   "cell_type": "markdown",
   "id": "8badc20d",
   "metadata": {},
   "source": [
    "##### normal logaritm of rt :"
   ]
  },
  {
   "cell_type": "code",
   "execution_count": 564,
   "id": "efce795e",
   "metadata": {},
   "outputs": [],
   "source": [
    "final_df['lrt'] = np.log(final_df['rt'])"
   ]
  },
  {
   "cell_type": "markdown",
   "id": "629f309f",
   "metadata": {},
   "source": [
    "##### Eccentricity  :"
   ]
  },
  {
   "cell_type": "code",
   "execution_count": 565,
   "id": "54a92dbc",
   "metadata": {},
   "outputs": [],
   "source": [
    "final_df['ecc'] = final_df['pos'].apply(lambda x: 0 if x == 1 else (1 if x in [2,3,4,5,6,7] else 2))"
   ]
  },
  {
   "cell_type": "markdown",
   "id": "3bb80c1e",
   "metadata": {},
   "source": [
    "##### Visual Fields :"
   ]
  },
  {
   "cell_type": "code",
   "execution_count": 566,
   "id": "61303125",
   "metadata": {},
   "outputs": [],
   "source": [
    "final_df['vf'] = final_df['pos'].apply(lambda x: 0 if x == 1 else (1 if x in [2, 8,13] else \n",
    "                                                                  (2 if x in [3, 4, 9] else\n",
    "                                                                  (3 if x in [5,10,11] else\n",
    "                                                                  (4 if x in [6, 7,12] else 5)))))"
   ]
  },
  {
   "cell_type": "markdown",
   "id": "a61af9e4",
   "metadata": {},
   "source": [
    "##### Used Dominant Hand :"
   ]
  },
  {
   "cell_type": "code",
   "execution_count": 567,
   "id": "599a7c1e",
   "metadata": {},
   "outputs": [],
   "source": [
    "final_df['udh'] = np.where(final_df.uhnd == final_df.hndns, 1, 0)"
   ]
  },
  {
   "cell_type": "markdown",
   "id": "d086a124",
   "metadata": {},
   "source": [
    "##### accuracy column :"
   ]
  },
  {
   "cell_type": "markdown",
   "id": "064ce8ce",
   "metadata": {},
   "source": [
    "removing ' 40 ' stimulus from table :"
   ]
  },
  {
   "cell_type": "code",
   "execution_count": 592,
   "id": "3e11ae35",
   "metadata": {},
   "outputs": [],
   "source": [
    "EDA_df = final_df[final_df.stm != '40'].copy()"
   ]
  },
  {
   "cell_type": "markdown",
   "id": "ff5b19d1",
   "metadata": {},
   "source": [
    "creating acc column :"
   ]
  },
  {
   "cell_type": "code",
   "execution_count": 593,
   "id": "e9a4d2f3",
   "metadata": {},
   "outputs": [],
   "source": [
    "acc = []\n",
    "acc0 = EDA_df['key'].apply(lambda x: 'm' if x in ['w','p'] else 'f').to_list()\n",
    "acc1 = EDA_df['stm'].apply(lambda x: 'm' if x in ['0' ,'10','20','30'] else \n",
    "                                    ('f' if x in ['50','60','70','80'] else x)).to_list()\n",
    "\n",
    "for i in range(len(acc0)):\n",
    "    if acc1[i] == acc0[i]:\n",
    "        acc.append(1)\n",
    "    else:\n",
    "        acc.append(0)"
   ]
  },
  {
   "cell_type": "code",
   "execution_count": 594,
   "id": "260d3f11",
   "metadata": {},
   "outputs": [],
   "source": [
    "EDA_df['acc'] = acc"
   ]
  },
  {
   "cell_type": "markdown",
   "id": "0736274e",
   "metadata": {},
   "source": [
    "##### Final table :"
   ]
  },
  {
   "cell_type": "code",
   "execution_count": 595,
   "id": "40fc2c8d",
   "metadata": {},
   "outputs": [
    {
     "data": {
      "text/html": [
       "<div>\n",
       "<style scoped>\n",
       "    .dataframe tbody tr th:only-of-type {\n",
       "        vertical-align: middle;\n",
       "    }\n",
       "\n",
       "    .dataframe tbody tr th {\n",
       "        vertical-align: top;\n",
       "    }\n",
       "\n",
       "    .dataframe thead th {\n",
       "        text-align: right;\n",
       "    }\n",
       "</style>\n",
       "<table border=\"1\" class=\"dataframe\">\n",
       "  <thead>\n",
       "    <tr style=\"text-align: right;\">\n",
       "      <th></th>\n",
       "      <th>sbj</th>\n",
       "      <th>stm</th>\n",
       "      <th>rt</th>\n",
       "      <th>key</th>\n",
       "      <th>pos</th>\n",
       "      <th>uhnd</th>\n",
       "      <th>hndns</th>\n",
       "      <th>eye</th>\n",
       "      <th>sex</th>\n",
       "      <th>age</th>\n",
       "      <th>edu</th>\n",
       "      <th>lrt</th>\n",
       "      <th>ecc</th>\n",
       "      <th>vf</th>\n",
       "      <th>udh</th>\n",
       "      <th>acc</th>\n",
       "    </tr>\n",
       "  </thead>\n",
       "  <tbody>\n",
       "    <tr>\n",
       "      <th>3</th>\n",
       "      <td>8101004202</td>\n",
       "      <td>50</td>\n",
       "      <td>925.6644</td>\n",
       "      <td>o</td>\n",
       "      <td>10.0</td>\n",
       "      <td>r</td>\n",
       "      <td>r</td>\n",
       "      <td>r</td>\n",
       "      <td>m</td>\n",
       "      <td>22.0</td>\n",
       "      <td>2.0</td>\n",
       "      <td>6.830512</td>\n",
       "      <td>2</td>\n",
       "      <td>3</td>\n",
       "      <td>1</td>\n",
       "      <td>1</td>\n",
       "    </tr>\n",
       "    <tr>\n",
       "      <th>5</th>\n",
       "      <td>8101004202</td>\n",
       "      <td>70</td>\n",
       "      <td>1163.9952</td>\n",
       "      <td>o</td>\n",
       "      <td>6.0</td>\n",
       "      <td>r</td>\n",
       "      <td>r</td>\n",
       "      <td>r</td>\n",
       "      <td>m</td>\n",
       "      <td>22.0</td>\n",
       "      <td>2.0</td>\n",
       "      <td>7.059614</td>\n",
       "      <td>1</td>\n",
       "      <td>4</td>\n",
       "      <td>1</td>\n",
       "      <td>1</td>\n",
       "    </tr>\n",
       "    <tr>\n",
       "      <th>6</th>\n",
       "      <td>8101004202</td>\n",
       "      <td>50</td>\n",
       "      <td>1023.1118</td>\n",
       "      <td>o</td>\n",
       "      <td>9.0</td>\n",
       "      <td>r</td>\n",
       "      <td>r</td>\n",
       "      <td>r</td>\n",
       "      <td>m</td>\n",
       "      <td>22.0</td>\n",
       "      <td>2.0</td>\n",
       "      <td>6.930604</td>\n",
       "      <td>2</td>\n",
       "      <td>2</td>\n",
       "      <td>1</td>\n",
       "      <td>1</td>\n",
       "    </tr>\n",
       "    <tr>\n",
       "      <th>8</th>\n",
       "      <td>8101004202</td>\n",
       "      <td>80</td>\n",
       "      <td>970.4250</td>\n",
       "      <td>o</td>\n",
       "      <td>10.0</td>\n",
       "      <td>r</td>\n",
       "      <td>r</td>\n",
       "      <td>r</td>\n",
       "      <td>m</td>\n",
       "      <td>22.0</td>\n",
       "      <td>2.0</td>\n",
       "      <td>6.877734</td>\n",
       "      <td>2</td>\n",
       "      <td>3</td>\n",
       "      <td>1</td>\n",
       "      <td>1</td>\n",
       "    </tr>\n",
       "    <tr>\n",
       "      <th>14</th>\n",
       "      <td>8101004202</td>\n",
       "      <td>60</td>\n",
       "      <td>1175.1443</td>\n",
       "      <td>p</td>\n",
       "      <td>13.0</td>\n",
       "      <td>r</td>\n",
       "      <td>r</td>\n",
       "      <td>r</td>\n",
       "      <td>m</td>\n",
       "      <td>22.0</td>\n",
       "      <td>2.0</td>\n",
       "      <td>7.069146</td>\n",
       "      <td>2</td>\n",
       "      <td>1</td>\n",
       "      <td>1</td>\n",
       "      <td>0</td>\n",
       "    </tr>\n",
       "  </tbody>\n",
       "</table>\n",
       "</div>"
      ],
      "text/plain": [
       "           sbj stm         rt key   pos uhnd hndns eye sex   age  edu  \\\n",
       "3   8101004202  50   925.6644   o  10.0    r     r   r   m  22.0  2.0   \n",
       "5   8101004202  70  1163.9952   o   6.0    r     r   r   m  22.0  2.0   \n",
       "6   8101004202  50  1023.1118   o   9.0    r     r   r   m  22.0  2.0   \n",
       "8   8101004202  80   970.4250   o  10.0    r     r   r   m  22.0  2.0   \n",
       "14  8101004202  60  1175.1443   p  13.0    r     r   r   m  22.0  2.0   \n",
       "\n",
       "         lrt  ecc  vf  udh  acc  \n",
       "3   6.830512    2   3    1    1  \n",
       "5   7.059614    1   4    1    1  \n",
       "6   6.930604    2   2    1    1  \n",
       "8   6.877734    2   3    1    1  \n",
       "14  7.069146    2   1    1    0  "
      ]
     },
     "execution_count": 595,
     "metadata": {},
     "output_type": "execute_result"
    }
   ],
   "source": [
    "EDA_df.head()"
   ]
  },
  {
   "cell_type": "markdown",
   "id": "f7278135",
   "metadata": {},
   "source": [
    "---"
   ]
  },
  {
   "cell_type": "markdown",
   "id": "969059be",
   "metadata": {},
   "source": [
    "### Barplots & ANOVA test for Reaction Time"
   ]
  },
  {
   "cell_type": "markdown",
   "id": "02300579",
   "metadata": {},
   "source": [
    "#### Reaction Time & Location"
   ]
  },
  {
   "cell_type": "code",
   "execution_count": 730,
   "id": "b855818f",
   "metadata": {
    "scrolled": false
   },
   "outputs": [
    {
     "data": {
      "image/png": "[encoded data removed]",
      "text/plain": [
       "<Figure size 720x432 with 1 Axes>"
      ]
     },
     "metadata": {},
     "output_type": "display_data"
    }
   ],
   "source": [
    "plt.figure(figsize=(10,6))\n",
    "sns.barplot(x=EDA_df.pos, y=EDA_df.rt, palette='Set3')\n",
    "plt.xlabel('Location', fontsize=15)\n",
    "plt.ylabel('Reaction Time(ms)', fontsize=15)\n",
    "plt.ylim(550,675)\n",
    "plt.title('Reaction Time & Location', pad=10, fontsize=30)\n",
    "plt.show();"
   ]
  },
  {
   "cell_type": "code",
   "execution_count": 694,
   "id": "1c9bea90",
   "metadata": {
    "scrolled": true
   },
   "outputs": [
    {
     "data": {
      "text/html": [
       "<div>\n",
       "<style scoped>\n",
       "    .dataframe tbody tr th:only-of-type {\n",
       "        vertical-align: middle;\n",
       "    }\n",
       "\n",
       "    .dataframe tbody tr th {\n",
       "        vertical-align: top;\n",
       "    }\n",
       "\n",
       "    .dataframe thead th {\n",
       "        text-align: right;\n",
       "    }\n",
       "</style>\n",
       "<table border=\"1\" class=\"dataframe\">\n",
       "  <thead>\n",
       "    <tr style=\"text-align: right;\">\n",
       "      <th></th>\n",
       "      <th>P_value</th>\n",
       "      <th>R_squared</th>\n",
       "      <th>AIC</th>\n",
       "      <th>BIC</th>\n",
       "    </tr>\n",
       "  </thead>\n",
       "  <tbody>\n",
       "    <tr>\n",
       "      <th>rt &amp; Location</th>\n",
       "      <td>0.051137</td>\n",
       "      <td>0.000209</td>\n",
       "      <td>1.372040e+06</td>\n",
       "      <td>1.372163e+06</td>\n",
       "    </tr>\n",
       "  </tbody>\n",
       "</table>\n",
       "</div>"
      ],
      "text/plain": [
       "                P_value  R_squared           AIC           BIC\n",
       "rt & Location  0.051137   0.000209  1.372040e+06  1.372163e+06"
      ]
     },
     "execution_count": 694,
     "metadata": {},
     "output_type": "execute_result"
    }
   ],
   "source": [
    "model = ols('rt ~ C(pos)', data = EDA_df).fit()\n",
    "pd.DataFrame({'P_value':model.f_pvalue, 'R_squared':model.rsquared , 'AIC':model.aic , 'BIC':model.bic}, \n",
    "             index=['rt & Location'])"
   ]
  },
  {
   "cell_type": "markdown",
   "id": "bf62fb74",
   "metadata": {},
   "source": [
    "#### Reaction Time & Visual Field"
   ]
  },
  {
   "cell_type": "code",
   "execution_count": 695,
   "id": "1abd0600",
   "metadata": {
    "scrolled": false
   },
   "outputs": [
    {
     "data": {
      "image/png": "[encoded data removed]",
      "text/plain": [
       "<Figure size 720x432 with 1 Axes>"
      ]
     },
     "metadata": {},
     "output_type": "display_data"
    }
   ],
   "source": [
    "plt.figure(figsize=(10,6))\n",
    "sns.barplot(x=EDA_df.vf, y=EDA_df.rt, palette='Set2')\n",
    "plt.xticks([0,1,2,3,4],['Center','Right','Up','Left','Down'])\n",
    "plt.xlabel('Visual Field', fontsize=15)\n",
    "plt.ylabel('Reaction Time(ms)', fontsize=15)\n",
    "plt.ylim(550,675)\n",
    "plt.title('Reaction Time & Visual Field', pad=10, fontsize=30)\n",
    "plt.show();"
   ]
  },
  {
   "cell_type": "code",
   "execution_count": 696,
   "id": "06d1005c",
   "metadata": {},
   "outputs": [
    {
     "data": {
      "text/html": [
       "<div>\n",
       "<style scoped>\n",
       "    .dataframe tbody tr th:only-of-type {\n",
       "        vertical-align: middle;\n",
       "    }\n",
       "\n",
       "    .dataframe tbody tr th {\n",
       "        vertical-align: top;\n",
       "    }\n",
       "\n",
       "    .dataframe thead th {\n",
       "        text-align: right;\n",
       "    }\n",
       "</style>\n",
       "<table border=\"1\" class=\"dataframe\">\n",
       "  <thead>\n",
       "    <tr style=\"text-align: right;\">\n",
       "      <th></th>\n",
       "      <th>P_value</th>\n",
       "      <th>R_squared</th>\n",
       "      <th>AIC</th>\n",
       "      <th>BIC</th>\n",
       "    </tr>\n",
       "  </thead>\n",
       "  <tbody>\n",
       "    <tr>\n",
       "      <th>rt &amp; Visual Field</th>\n",
       "      <td>0.005929</td>\n",
       "      <td>0.000145</td>\n",
       "      <td>1.372030e+06</td>\n",
       "      <td>1.372078e+06</td>\n",
       "    </tr>\n",
       "  </tbody>\n",
       "</table>\n",
       "</div>"
      ],
      "text/plain": [
       "                    P_value  R_squared           AIC           BIC\n",
       "rt & Visual Field  0.005929   0.000145  1.372030e+06  1.372078e+06"
      ]
     },
     "execution_count": 696,
     "metadata": {},
     "output_type": "execute_result"
    }
   ],
   "source": [
    "model = ols('rt ~ C(vf)', data = EDA_df).fit()\n",
    "pd.DataFrame({'P_value':model.f_pvalue, 'R_squared':model.rsquared , 'AIC':model.aic , 'BIC':model.bic}, \n",
    "             index=['rt & Visual Field'])"
   ]
  },
  {
   "cell_type": "markdown",
   "id": "e5d2a976",
   "metadata": {},
   "source": [
    "#### Reaction Time & Eccentricity"
   ]
  },
  {
   "cell_type": "code",
   "execution_count": 697,
   "id": "a216231d",
   "metadata": {
    "scrolled": false
   },
   "outputs": [
    {
     "data": {
      "image/png": "[encoded data removed]",
      "text/plain": [
       "<Figure size 720x432 with 1 Axes>"
      ]
     },
     "metadata": {},
     "output_type": "display_data"
    }
   ],
   "source": [
    "plt.figure(figsize=(10,6))\n",
    "sns.barplot(x=EDA_df.ecc, y=EDA_df.rt, palette='Set2')\n",
    "plt.xticks([0,1,2],['Center','Inner Circle','Outer Circle'])\n",
    "plt.xlabel('Eccentricity', fontsize=15)\n",
    "plt.ylabel('Reaction Time(ms)', fontsize=15)\n",
    "plt.ylim(550,675)\n",
    "plt.title('Reaction Time & Eccentricity', pad=10, fontsize=30)\n",
    "plt.show();"
   ]
  },
  {
   "cell_type": "code",
   "execution_count": 698,
   "id": "bc27f9f6",
   "metadata": {},
   "outputs": [
    {
     "data": {
      "text/html": [
       "<div>\n",
       "<style scoped>\n",
       "    .dataframe tbody tr th:only-of-type {\n",
       "        vertical-align: middle;\n",
       "    }\n",
       "\n",
       "    .dataframe tbody tr th {\n",
       "        vertical-align: top;\n",
       "    }\n",
       "\n",
       "    .dataframe thead th {\n",
       "        text-align: right;\n",
       "    }\n",
       "</style>\n",
       "<table border=\"1\" class=\"dataframe\">\n",
       "  <thead>\n",
       "    <tr style=\"text-align: right;\">\n",
       "      <th></th>\n",
       "      <th>P_value</th>\n",
       "      <th>R_squared</th>\n",
       "      <th>AIC</th>\n",
       "      <th>BIC</th>\n",
       "    </tr>\n",
       "  </thead>\n",
       "  <tbody>\n",
       "    <tr>\n",
       "      <th>rt &amp; Eccentricity</th>\n",
       "      <td>0.227933</td>\n",
       "      <td>0.00003</td>\n",
       "      <td>1.372037e+06</td>\n",
       "      <td>1.372066e+06</td>\n",
       "    </tr>\n",
       "  </tbody>\n",
       "</table>\n",
       "</div>"
      ],
      "text/plain": [
       "                    P_value  R_squared           AIC           BIC\n",
       "rt & Eccentricity  0.227933    0.00003  1.372037e+06  1.372066e+06"
      ]
     },
     "execution_count": 698,
     "metadata": {},
     "output_type": "execute_result"
    }
   ],
   "source": [
    "model = ols('rt ~ C(ecc)', data = EDA_df).fit()\n",
    "pd.DataFrame({'P_value':model.f_pvalue, 'R_squared':model.rsquared , 'AIC':model.aic , 'BIC':model.bic}, \n",
    "             index=['rt & Eccentricity'])"
   ]
  },
  {
   "cell_type": "markdown",
   "id": "b917fceb",
   "metadata": {},
   "source": [
    "#### Reaction Time & Used Hand"
   ]
  },
  {
   "cell_type": "code",
   "execution_count": 699,
   "id": "5fc3a91e",
   "metadata": {
    "scrolled": false
   },
   "outputs": [
    {
     "data": {
      "image/png": "[encoded data removed]",
      "text/plain": [
       "<Figure size 648x432 with 1 Axes>"
      ]
     },
     "metadata": {},
     "output_type": "display_data"
    }
   ],
   "source": [
    "plt.figure(figsize=(9,6))\n",
    "sns.barplot(x=EDA_df.uhnd, y=EDA_df.rt, palette='Set2', order=['l', 'r'])\n",
    "plt.xticks([0,1],['Left','Right'])\n",
    "plt.xlabel('Used Hand', fontsize=15)\n",
    "plt.ylabel('Reaction Time(ms)', fontsize=15)\n",
    "plt.ylim(550,675)\n",
    "plt.title('Reaction Time & Used Hand', pad=10, fontsize=30)\n",
    "plt.show();"
   ]
  },
  {
   "cell_type": "code",
   "execution_count": 700,
   "id": "2b7a4e37",
   "metadata": {
    "scrolled": true
   },
   "outputs": [
    {
     "data": {
      "text/html": [
       "<div>\n",
       "<style scoped>\n",
       "    .dataframe tbody tr th:only-of-type {\n",
       "        vertical-align: middle;\n",
       "    }\n",
       "\n",
       "    .dataframe tbody tr th {\n",
       "        vertical-align: top;\n",
       "    }\n",
       "\n",
       "    .dataframe thead th {\n",
       "        text-align: right;\n",
       "    }\n",
       "</style>\n",
       "<table border=\"1\" class=\"dataframe\">\n",
       "  <thead>\n",
       "    <tr style=\"text-align: right;\">\n",
       "      <th></th>\n",
       "      <th>P_value</th>\n",
       "      <th>R_squared</th>\n",
       "      <th>AIC</th>\n",
       "      <th>BIC</th>\n",
       "    </tr>\n",
       "  </thead>\n",
       "  <tbody>\n",
       "    <tr>\n",
       "      <th>rt &amp; Used Hand</th>\n",
       "      <td>0.000448</td>\n",
       "      <td>0.000123</td>\n",
       "      <td>1.372026e+06</td>\n",
       "      <td>1.372045e+06</td>\n",
       "    </tr>\n",
       "  </tbody>\n",
       "</table>\n",
       "</div>"
      ],
      "text/plain": [
       "                 P_value  R_squared           AIC           BIC\n",
       "rt & Used Hand  0.000448   0.000123  1.372026e+06  1.372045e+06"
      ]
     },
     "execution_count": 700,
     "metadata": {},
     "output_type": "execute_result"
    }
   ],
   "source": [
    "model = ols('rt ~ uhnd', data = EDA_df).fit()\n",
    "pd.DataFrame({'P_value':model.f_pvalue, 'R_squared':model.rsquared , 'AIC':model.aic , 'BIC':model.bic}, \n",
    "             index=['rt & Used Hand'])"
   ]
  },
  {
   "cell_type": "markdown",
   "id": "22e94ff8",
   "metadata": {},
   "source": [
    "#### Reaction Time & Handedness"
   ]
  },
  {
   "cell_type": "code",
   "execution_count": 701,
   "id": "673d60b0",
   "metadata": {
    "scrolled": false
   },
   "outputs": [
    {
     "data": {
      "image/png": "[encoded data removed]",
      "text/plain": [
       "<Figure size 648x432 with 1 Axes>"
      ]
     },
     "metadata": {},
     "output_type": "display_data"
    }
   ],
   "source": [
    "plt.figure(figsize=(9,6))\n",
    "sns.barplot(x=EDA_df.hndns, y=EDA_df.rt, palette='Set2', order=['l', 'r'])\n",
    "plt.xticks([0,1],['Left','Right'])\n",
    "plt.xlabel('Handedness', fontsize=15)\n",
    "plt.ylabel('Reaction Time(ms)', fontsize=15)\n",
    "plt.ylim(550,675)\n",
    "plt.title('Reaction Time & Handedness', pad=10, fontsize=30)\n",
    "plt.show();"
   ]
  },
  {
   "cell_type": "code",
   "execution_count": 702,
   "id": "ed3878be",
   "metadata": {},
   "outputs": [
    {
     "data": {
      "text/html": [
       "<div>\n",
       "<style scoped>\n",
       "    .dataframe tbody tr th:only-of-type {\n",
       "        vertical-align: middle;\n",
       "    }\n",
       "\n",
       "    .dataframe tbody tr th {\n",
       "        vertical-align: top;\n",
       "    }\n",
       "\n",
       "    .dataframe thead th {\n",
       "        text-align: right;\n",
       "    }\n",
       "</style>\n",
       "<table border=\"1\" class=\"dataframe\">\n",
       "  <thead>\n",
       "    <tr style=\"text-align: right;\">\n",
       "      <th></th>\n",
       "      <th>P_value</th>\n",
       "      <th>R_squared</th>\n",
       "      <th>AIC</th>\n",
       "      <th>BIC</th>\n",
       "    </tr>\n",
       "  </thead>\n",
       "  <tbody>\n",
       "    <tr>\n",
       "      <th>rt &amp; Handedness</th>\n",
       "      <td>1.248118e-14</td>\n",
       "      <td>0.000594</td>\n",
       "      <td>1.371979e+06</td>\n",
       "      <td>1.371998e+06</td>\n",
       "    </tr>\n",
       "  </tbody>\n",
       "</table>\n",
       "</div>"
      ],
      "text/plain": [
       "                      P_value  R_squared           AIC           BIC\n",
       "rt & Handedness  1.248118e-14   0.000594  1.371979e+06  1.371998e+06"
      ]
     },
     "execution_count": 702,
     "metadata": {},
     "output_type": "execute_result"
    }
   ],
   "source": [
    "model = ols('rt ~ hndns', data = EDA_df).fit()\n",
    "pd.DataFrame({'P_value':model.f_pvalue, 'R_squared':model.rsquared , 'AIC':model.aic , 'BIC':model.bic}, \n",
    "             index=['rt & Handedness'])"
   ]
  },
  {
   "cell_type": "markdown",
   "id": "6dc5f556",
   "metadata": {},
   "source": [
    "#### Reaction Time & Used Dominant Hand"
   ]
  },
  {
   "cell_type": "code",
   "execution_count": 703,
   "id": "5024aaba",
   "metadata": {
    "scrolled": false
   },
   "outputs": [
    {
     "data": {
      "image/png": "[encoded data removed]",
      "text/plain": [
       "<Figure size 648x432 with 1 Axes>"
      ]
     },
     "metadata": {},
     "output_type": "display_data"
    }
   ],
   "source": [
    "plt.figure(figsize=(9,6))\n",
    "sns.barplot(x=EDA_df.udh, y=EDA_df.rt, palette='Set2')\n",
    "plt.xticks([0,1],['False','True'])\n",
    "plt.xlabel('Used Dominant Hand', fontsize=15)\n",
    "plt.ylabel('Reaction Time(ms)', fontsize=15)\n",
    "plt.ylim(550,675)\n",
    "plt.title('Reaction Time & Used Dominant Hand', pad=10, fontsize=30)\n",
    "plt.show();"
   ]
  },
  {
   "cell_type": "code",
   "execution_count": 704,
   "id": "ded29749",
   "metadata": {},
   "outputs": [
    {
     "data": {
      "text/html": [
       "<div>\n",
       "<style scoped>\n",
       "    .dataframe tbody tr th:only-of-type {\n",
       "        vertical-align: middle;\n",
       "    }\n",
       "\n",
       "    .dataframe tbody tr th {\n",
       "        vertical-align: top;\n",
       "    }\n",
       "\n",
       "    .dataframe thead th {\n",
       "        text-align: right;\n",
       "    }\n",
       "</style>\n",
       "<table border=\"1\" class=\"dataframe\">\n",
       "  <thead>\n",
       "    <tr style=\"text-align: right;\">\n",
       "      <th></th>\n",
       "      <th>P_value</th>\n",
       "      <th>R_squared</th>\n",
       "      <th>AIC</th>\n",
       "      <th>BIC</th>\n",
       "    </tr>\n",
       "  </thead>\n",
       "  <tbody>\n",
       "    <tr>\n",
       "      <th>rt &amp; Used Dominant Hand</th>\n",
       "      <td>0.917928</td>\n",
       "      <td>1.061241e-07</td>\n",
       "      <td>1.372038e+06</td>\n",
       "      <td>1.372057e+06</td>\n",
       "    </tr>\n",
       "  </tbody>\n",
       "</table>\n",
       "</div>"
      ],
      "text/plain": [
       "                          P_value     R_squared           AIC           BIC\n",
       "rt & Used Dominant Hand  0.917928  1.061241e-07  1.372038e+06  1.372057e+06"
      ]
     },
     "execution_count": 704,
     "metadata": {},
     "output_type": "execute_result"
    }
   ],
   "source": [
    "model = ols('rt ~ C(udh)', data = EDA_df).fit()\n",
    "pd.DataFrame({'P_value':model.f_pvalue, 'R_squared':model.rsquared , 'AIC':model.aic , 'BIC':model.bic}, \n",
    "             index=['rt & Used Dominant Hand'])"
   ]
  },
  {
   "cell_type": "markdown",
   "id": "0019abb6",
   "metadata": {},
   "source": [
    "#### Reaction Time & Gender"
   ]
  },
  {
   "cell_type": "code",
   "execution_count": 705,
   "id": "beffe611",
   "metadata": {
    "scrolled": false
   },
   "outputs": [
    {
     "data": {
      "image/png": "[encoded data removed]",
      "text/plain": [
       "<Figure size 648x432 with 1 Axes>"
      ]
     },
     "metadata": {},
     "output_type": "display_data"
    }
   ],
   "source": [
    "plt.figure(figsize=(9,6))\n",
    "sns.barplot(x=EDA_df.sex, y=EDA_df.rt, palette='Set2')\n",
    "plt.xticks([0,1],['Male','Female'])\n",
    "plt.xlabel('Gender', fontsize=15)\n",
    "plt.ylabel('Reaction Time(ms)', fontsize=15)\n",
    "plt.ylim(550,675)\n",
    "plt.title('Reaction Time & Gender', pad=10, fontsize=30)\n",
    "plt.show();"
   ]
  },
  {
   "cell_type": "code",
   "execution_count": 706,
   "id": "ac8fe6b8",
   "metadata": {},
   "outputs": [
    {
     "data": {
      "text/html": [
       "<div>\n",
       "<style scoped>\n",
       "    .dataframe tbody tr th:only-of-type {\n",
       "        vertical-align: middle;\n",
       "    }\n",
       "\n",
       "    .dataframe tbody tr th {\n",
       "        vertical-align: top;\n",
       "    }\n",
       "\n",
       "    .dataframe thead th {\n",
       "        text-align: right;\n",
       "    }\n",
       "</style>\n",
       "<table border=\"1\" class=\"dataframe\">\n",
       "  <thead>\n",
       "    <tr style=\"text-align: right;\">\n",
       "      <th></th>\n",
       "      <th>P_value</th>\n",
       "      <th>R_squared</th>\n",
       "      <th>AIC</th>\n",
       "      <th>BIC</th>\n",
       "    </tr>\n",
       "  </thead>\n",
       "  <tbody>\n",
       "    <tr>\n",
       "      <th>rt &amp; Gender</th>\n",
       "      <td>4.107114e-172</td>\n",
       "      <td>0.007787</td>\n",
       "      <td>1.371256e+06</td>\n",
       "      <td>1.371275e+06</td>\n",
       "    </tr>\n",
       "  </tbody>\n",
       "</table>\n",
       "</div>"
      ],
      "text/plain": [
       "                   P_value  R_squared           AIC           BIC\n",
       "rt & Gender  4.107114e-172   0.007787  1.371256e+06  1.371275e+06"
      ]
     },
     "execution_count": 706,
     "metadata": {},
     "output_type": "execute_result"
    }
   ],
   "source": [
    "model = ols('rt ~ sex', data = EDA_df).fit()\n",
    "pd.DataFrame({'P_value':model.f_pvalue, 'R_squared':model.rsquared , 'AIC':model.aic , 'BIC':model.bic}, \n",
    "             index=['rt & Gender'])"
   ]
  },
  {
   "cell_type": "markdown",
   "id": "06572f28",
   "metadata": {},
   "source": [
    "#### Reaction Time & Eyedness"
   ]
  },
  {
   "cell_type": "code",
   "execution_count": 707,
   "id": "7480b5fa",
   "metadata": {
    "scrolled": false
   },
   "outputs": [
    {
     "data": {
      "image/png": "[encoded data removed]",
      "text/plain": [
       "<Figure size 648x432 with 1 Axes>"
      ]
     },
     "metadata": {},
     "output_type": "display_data"
    }
   ],
   "source": [
    "plt.figure(figsize=(9,6))\n",
    "sns.barplot(x=EDA_df.eye, y=EDA_df.rt, palette='Set2', order=['l', 'r'])\n",
    "plt.xticks([0,1],['Left','Right'])\n",
    "plt.xlabel('Eyedness', fontsize=15)\n",
    "plt.ylabel('Reaction Time(ms)', fontsize=15)\n",
    "plt.ylim(550,675)\n",
    "plt.title('Reaction Time & Eyedness', pad=10, fontsize=30)\n",
    "plt.show();"
   ]
  },
  {
   "cell_type": "code",
   "execution_count": 708,
   "id": "89627d75",
   "metadata": {},
   "outputs": [
    {
     "data": {
      "text/html": [
       "<div>\n",
       "<style scoped>\n",
       "    .dataframe tbody tr th:only-of-type {\n",
       "        vertical-align: middle;\n",
       "    }\n",
       "\n",
       "    .dataframe tbody tr th {\n",
       "        vertical-align: top;\n",
       "    }\n",
       "\n",
       "    .dataframe thead th {\n",
       "        text-align: right;\n",
       "    }\n",
       "</style>\n",
       "<table border=\"1\" class=\"dataframe\">\n",
       "  <thead>\n",
       "    <tr style=\"text-align: right;\">\n",
       "      <th></th>\n",
       "      <th>P_value</th>\n",
       "      <th>R_squared</th>\n",
       "      <th>AIC</th>\n",
       "      <th>BIC</th>\n",
       "    </tr>\n",
       "  </thead>\n",
       "  <tbody>\n",
       "    <tr>\n",
       "      <th>rt &amp; Eyedness</th>\n",
       "      <td>0.267876</td>\n",
       "      <td>0.000012</td>\n",
       "      <td>1.372037e+06</td>\n",
       "      <td>1.372056e+06</td>\n",
       "    </tr>\n",
       "  </tbody>\n",
       "</table>\n",
       "</div>"
      ],
      "text/plain": [
       "                P_value  R_squared           AIC           BIC\n",
       "rt & Eyedness  0.267876   0.000012  1.372037e+06  1.372056e+06"
      ]
     },
     "execution_count": 708,
     "metadata": {},
     "output_type": "execute_result"
    }
   ],
   "source": [
    "model = ols('rt ~ eye', data = EDA_df).fit()\n",
    "pd.DataFrame({'P_value':model.f_pvalue, 'R_squared':model.rsquared , 'AIC':model.aic , 'BIC':model.bic}, \n",
    "             index=['rt & Eyedness'])"
   ]
  },
  {
   "cell_type": "markdown",
   "id": "fc328fbc",
   "metadata": {},
   "source": [
    "---"
   ]
  },
  {
   "cell_type": "markdown",
   "id": "d4789a08",
   "metadata": {},
   "source": [
    "### Barplots & ANOVA test for Accuracy"
   ]
  },
  {
   "cell_type": "markdown",
   "id": "618cb98e",
   "metadata": {},
   "source": [
    "#### Accuracy & Location"
   ]
  },
  {
   "cell_type": "code",
   "execution_count": 729,
   "id": "47ffe4f4",
   "metadata": {
    "scrolled": false
   },
   "outputs": [
    {
     "data": {
      "image/png": "[encoded data removed]",
      "text/plain": [
       "<Figure size 720x432 with 1 Axes>"
      ]
     },
     "metadata": {},
     "output_type": "display_data"
    }
   ],
   "source": [
    "plt.figure(figsize=(10,6))\n",
    "sns.barplot(x=EDA_df.pos, y=EDA_df.acc, palette='Set3')\n",
    "plt.xlabel('Location', fontsize=15)\n",
    "plt.ylabel('Accuracy', fontsize=15)\n",
    "plt.ylim(0.45,0.65)\n",
    "plt.title('Accuracy & Location', pad=10, fontsize=30)\n",
    "plt.show();"
   ]
  },
  {
   "cell_type": "code",
   "execution_count": 710,
   "id": "056b8461",
   "metadata": {},
   "outputs": [
    {
     "data": {
      "text/html": [
       "<div>\n",
       "<style scoped>\n",
       "    .dataframe tbody tr th:only-of-type {\n",
       "        vertical-align: middle;\n",
       "    }\n",
       "\n",
       "    .dataframe tbody tr th {\n",
       "        vertical-align: top;\n",
       "    }\n",
       "\n",
       "    .dataframe thead th {\n",
       "        text-align: right;\n",
       "    }\n",
       "</style>\n",
       "<table border=\"1\" class=\"dataframe\">\n",
       "  <thead>\n",
       "    <tr style=\"text-align: right;\">\n",
       "      <th></th>\n",
       "      <th>P_value</th>\n",
       "      <th>R_squared</th>\n",
       "      <th>AIC</th>\n",
       "      <th>BIC</th>\n",
       "    </tr>\n",
       "  </thead>\n",
       "  <tbody>\n",
       "    <tr>\n",
       "      <th>acc &amp; Location</th>\n",
       "      <td>0.000005</td>\n",
       "      <td>0.000468</td>\n",
       "      <td>141972.152729</td>\n",
       "      <td>142095.828038</td>\n",
       "    </tr>\n",
       "  </tbody>\n",
       "</table>\n",
       "</div>"
      ],
      "text/plain": [
       "                 P_value  R_squared            AIC            BIC\n",
       "acc & Location  0.000005   0.000468  141972.152729  142095.828038"
      ]
     },
     "execution_count": 710,
     "metadata": {},
     "output_type": "execute_result"
    }
   ],
   "source": [
    "model = ols('acc ~ C(pos)', data = EDA_df).fit()\n",
    "pd.DataFrame({'P_value':model.f_pvalue, 'R_squared':model.rsquared , 'AIC':model.aic , 'BIC':model.bic}, \n",
    "             index=['acc & Location'])"
   ]
  },
  {
   "cell_type": "markdown",
   "id": "fe681f23",
   "metadata": {},
   "source": [
    "#### Accuracy & Visual Field"
   ]
  },
  {
   "cell_type": "code",
   "execution_count": 711,
   "id": "bbae5fcd",
   "metadata": {
    "scrolled": false
   },
   "outputs": [
    {
     "data": {
      "image/png": "[encoded data removed]",
      "text/plain": [
       "<Figure size 720x432 with 1 Axes>"
      ]
     },
     "metadata": {},
     "output_type": "display_data"
    }
   ],
   "source": [
    "plt.figure(figsize=(10,6))\n",
    "sns.barplot(x=EDA_df.vf, y=EDA_df.acc, palette='Set2')\n",
    "plt.xticks([0,1,2,3,4],['Center','Right','Up','Left','Down'])\n",
    "plt.xlabel('Visual Field', fontsize=15)\n",
    "plt.ylabel('Accuracy', fontsize=15)\n",
    "plt.ylim(0.4,0.65)\n",
    "plt.title('Accuracy & Visual Field', pad=10, fontsize=30)\n",
    "plt.show();"
   ]
  },
  {
   "cell_type": "code",
   "execution_count": 712,
   "id": "33921732",
   "metadata": {},
   "outputs": [
    {
     "data": {
      "text/html": [
       "<div>\n",
       "<style scoped>\n",
       "    .dataframe tbody tr th:only-of-type {\n",
       "        vertical-align: middle;\n",
       "    }\n",
       "\n",
       "    .dataframe tbody tr th {\n",
       "        vertical-align: top;\n",
       "    }\n",
       "\n",
       "    .dataframe thead th {\n",
       "        text-align: right;\n",
       "    }\n",
       "</style>\n",
       "<table border=\"1\" class=\"dataframe\">\n",
       "  <thead>\n",
       "    <tr style=\"text-align: right;\">\n",
       "      <th></th>\n",
       "      <th>P_value</th>\n",
       "      <th>R_squared</th>\n",
       "      <th>AIC</th>\n",
       "      <th>BIC</th>\n",
       "    </tr>\n",
       "  </thead>\n",
       "  <tbody>\n",
       "    <tr>\n",
       "      <th>acc &amp; Visual Field</th>\n",
       "      <td>0.000004</td>\n",
       "      <td>0.000303</td>\n",
       "      <td>141972.740622</td>\n",
       "      <td>142020.308049</td>\n",
       "    </tr>\n",
       "  </tbody>\n",
       "</table>\n",
       "</div>"
      ],
      "text/plain": [
       "                     P_value  R_squared            AIC            BIC\n",
       "acc & Visual Field  0.000004   0.000303  141972.740622  142020.308049"
      ]
     },
     "execution_count": 712,
     "metadata": {},
     "output_type": "execute_result"
    }
   ],
   "source": [
    "model = ols('acc ~ C(vf)', data = EDA_df).fit()\n",
    "pd.DataFrame({'P_value':model.f_pvalue, 'R_squared':model.rsquared , 'AIC':model.aic , 'BIC':model.bic}, \n",
    "             index=['acc & Visual Field'])"
   ]
  },
  {
   "cell_type": "markdown",
   "id": "081ff5f4",
   "metadata": {},
   "source": [
    "#### Accuracy & Eccentricity"
   ]
  },
  {
   "cell_type": "code",
   "execution_count": 713,
   "id": "041c6955",
   "metadata": {
    "scrolled": false
   },
   "outputs": [
    {
     "data": {
      "image/png": "[encoded data removed]",
      "text/plain": [
       "<Figure size 720x432 with 1 Axes>"
      ]
     },
     "metadata": {},
     "output_type": "display_data"
    }
   ],
   "source": [
    "plt.figure(figsize=(10,6))\n",
    "sns.barplot(x=EDA_df.ecc, y=EDA_df.acc, palette='Set2')\n",
    "plt.xticks([0,1,2],['Center','Inner Circle','Outer Circle'])\n",
    "plt.xlabel('Eccentricity', fontsize=15)\n",
    "plt.ylabel('Accuracy', fontsize=15)\n",
    "plt.ylim(0.45,0.65)\n",
    "plt.title('Accuracy & Eccentricity', pad=10, fontsize=30)\n",
    "plt.show();"
   ]
  },
  {
   "cell_type": "code",
   "execution_count": 714,
   "id": "f12b30dd",
   "metadata": {},
   "outputs": [
    {
     "data": {
      "text/html": [
       "<div>\n",
       "<style scoped>\n",
       "    .dataframe tbody tr th:only-of-type {\n",
       "        vertical-align: middle;\n",
       "    }\n",
       "\n",
       "    .dataframe tbody tr th {\n",
       "        vertical-align: top;\n",
       "    }\n",
       "\n",
       "    .dataframe thead th {\n",
       "        text-align: right;\n",
       "    }\n",
       "</style>\n",
       "<table border=\"1\" class=\"dataframe\">\n",
       "  <thead>\n",
       "    <tr style=\"text-align: right;\">\n",
       "      <th></th>\n",
       "      <th>P_value</th>\n",
       "      <th>R_squared</th>\n",
       "      <th>AIC</th>\n",
       "      <th>BIC</th>\n",
       "    </tr>\n",
       "  </thead>\n",
       "  <tbody>\n",
       "    <tr>\n",
       "      <th>acc &amp; Eccentricity</th>\n",
       "      <td>0.020782</td>\n",
       "      <td>0.000077</td>\n",
       "      <td>141991.265891</td>\n",
       "      <td>142019.806347</td>\n",
       "    </tr>\n",
       "  </tbody>\n",
       "</table>\n",
       "</div>"
      ],
      "text/plain": [
       "                     P_value  R_squared            AIC            BIC\n",
       "acc & Eccentricity  0.020782   0.000077  141991.265891  142019.806347"
      ]
     },
     "execution_count": 714,
     "metadata": {},
     "output_type": "execute_result"
    }
   ],
   "source": [
    "model = ols('acc ~ C(ecc)', data = EDA_df).fit()\n",
    "pd.DataFrame({'P_value':model.f_pvalue, 'R_squared':model.rsquared , 'AIC':model.aic , 'BIC':model.bic}, \n",
    "             index=['acc & Eccentricity'])"
   ]
  },
  {
   "cell_type": "markdown",
   "id": "bda2cf4e",
   "metadata": {},
   "source": [
    "#### Accuracy & Used Hand"
   ]
  },
  {
   "cell_type": "code",
   "execution_count": 715,
   "id": "2bfc9190",
   "metadata": {
    "scrolled": false
   },
   "outputs": [
    {
     "data": {
      "image/png": "[encoded data removed]",
      "text/plain": [
       "<Figure size 648x432 with 1 Axes>"
      ]
     },
     "metadata": {},
     "output_type": "display_data"
    }
   ],
   "source": [
    "plt.figure(figsize=(9,6))\n",
    "sns.barplot(x=EDA_df.uhnd, y=EDA_df.acc, palette='Set2', order=['l', 'r'])\n",
    "plt.xticks([0,1],['Left','Right'])\n",
    "plt.xlabel('Used Hand', fontsize=15)\n",
    "plt.ylabel('Accuracy', fontsize=15)\n",
    "plt.ylim(0.4,0.65)\n",
    "plt.title('Accuracy & Used Hand', pad=10, fontsize=30)\n",
    "plt.show();"
   ]
  },
  {
   "cell_type": "code",
   "execution_count": 716,
   "id": "f66f4238",
   "metadata": {},
   "outputs": [
    {
     "data": {
      "text/html": [
       "<div>\n",
       "<style scoped>\n",
       "    .dataframe tbody tr th:only-of-type {\n",
       "        vertical-align: middle;\n",
       "    }\n",
       "\n",
       "    .dataframe tbody tr th {\n",
       "        vertical-align: top;\n",
       "    }\n",
       "\n",
       "    .dataframe thead th {\n",
       "        text-align: right;\n",
       "    }\n",
       "</style>\n",
       "<table border=\"1\" class=\"dataframe\">\n",
       "  <thead>\n",
       "    <tr style=\"text-align: right;\">\n",
       "      <th></th>\n",
       "      <th>P_value</th>\n",
       "      <th>R_squared</th>\n",
       "      <th>AIC</th>\n",
       "      <th>BIC</th>\n",
       "    </tr>\n",
       "  </thead>\n",
       "  <tbody>\n",
       "    <tr>\n",
       "      <th>acc &amp; Used Hand</th>\n",
       "      <td>0.549522</td>\n",
       "      <td>0.000004</td>\n",
       "      <td>141996.655309</td>\n",
       "      <td>142015.682279</td>\n",
       "    </tr>\n",
       "  </tbody>\n",
       "</table>\n",
       "</div>"
      ],
      "text/plain": [
       "                  P_value  R_squared            AIC            BIC\n",
       "acc & Used Hand  0.549522   0.000004  141996.655309  142015.682279"
      ]
     },
     "execution_count": 716,
     "metadata": {},
     "output_type": "execute_result"
    }
   ],
   "source": [
    "model = ols('acc ~ uhnd', data = EDA_df).fit()\n",
    "pd.DataFrame({'P_value':model.f_pvalue, 'R_squared':model.rsquared , 'AIC':model.aic , 'BIC':model.bic}, \n",
    "             index=['acc & Used Hand'])"
   ]
  },
  {
   "cell_type": "markdown",
   "id": "ca30ded2",
   "metadata": {},
   "source": [
    "#### Accuracy & Handedness"
   ]
  },
  {
   "cell_type": "code",
   "execution_count": 717,
   "id": "6398b8d3",
   "metadata": {
    "scrolled": false
   },
   "outputs": [
    {
     "data": {
      "image/png": "[encoded data removed]",
      "text/plain": [
       "<Figure size 648x432 with 1 Axes>"
      ]
     },
     "metadata": {},
     "output_type": "display_data"
    }
   ],
   "source": [
    "plt.figure(figsize=(9,6))\n",
    "sns.barplot(x=EDA_df.hndns, y=EDA_df.acc, palette='Set2', order=['l', 'r'])\n",
    "plt.xticks([0,1],['Left','Right'])\n",
    "plt.xlabel('Handedness', fontsize=15)\n",
    "plt.ylabel('Accuracy', fontsize=15)\n",
    "plt.ylim(0.4,0.65)\n",
    "plt.title('Accuracy & Handedness', pad=10, fontsize=30)\n",
    "plt.show();"
   ]
  },
  {
   "cell_type": "code",
   "execution_count": 718,
   "id": "a0f92525",
   "metadata": {},
   "outputs": [
    {
     "data": {
      "text/html": [
       "<div>\n",
       "<style scoped>\n",
       "    .dataframe tbody tr th:only-of-type {\n",
       "        vertical-align: middle;\n",
       "    }\n",
       "\n",
       "    .dataframe tbody tr th {\n",
       "        vertical-align: top;\n",
       "    }\n",
       "\n",
       "    .dataframe thead th {\n",
       "        text-align: right;\n",
       "    }\n",
       "</style>\n",
       "<table border=\"1\" class=\"dataframe\">\n",
       "  <thead>\n",
       "    <tr style=\"text-align: right;\">\n",
       "      <th></th>\n",
       "      <th>P_value</th>\n",
       "      <th>R_squared</th>\n",
       "      <th>AIC</th>\n",
       "      <th>BIC</th>\n",
       "    </tr>\n",
       "  </thead>\n",
       "  <tbody>\n",
       "    <tr>\n",
       "      <th>acc &amp; Handedness</th>\n",
       "      <td>0.000138</td>\n",
       "      <td>0.000145</td>\n",
       "      <td>141982.478862</td>\n",
       "      <td>142001.505832</td>\n",
       "    </tr>\n",
       "  </tbody>\n",
       "</table>\n",
       "</div>"
      ],
      "text/plain": [
       "                   P_value  R_squared            AIC            BIC\n",
       "acc & Handedness  0.000138   0.000145  141982.478862  142001.505832"
      ]
     },
     "execution_count": 718,
     "metadata": {},
     "output_type": "execute_result"
    }
   ],
   "source": [
    "model = ols('acc ~ hndns', data = EDA_df).fit()\n",
    "pd.DataFrame({'P_value':model.f_pvalue, 'R_squared':model.rsquared , 'AIC':model.aic , 'BIC':model.bic}, \n",
    "             index=['acc & Handedness'])"
   ]
  },
  {
   "cell_type": "markdown",
   "id": "1897309d",
   "metadata": {},
   "source": [
    "#### Accuracy & Used Dominant Hand"
   ]
  },
  {
   "cell_type": "code",
   "execution_count": 719,
   "id": "668958a9",
   "metadata": {
    "scrolled": false
   },
   "outputs": [
    {
     "data": {
      "image/png": "[encoded data removed]",
      "text/plain": [
       "<Figure size 648x432 with 1 Axes>"
      ]
     },
     "metadata": {},
     "output_type": "display_data"
    }
   ],
   "source": [
    "plt.figure(figsize=(9,6))\n",
    "sns.barplot(x=EDA_df.udh, y=EDA_df.acc, palette='Set2')\n",
    "plt.xticks([0,1],['False','True'])\n",
    "plt.xlabel('Used Dominant Hand', fontsize=15)\n",
    "plt.ylabel('Accuracy', fontsize=15)\n",
    "plt.ylim(0.4,0.65)\n",
    "plt.title('Accuracy & Used Dominant Hand', pad=10, fontsize=30)\n",
    "plt.show();"
   ]
  },
  {
   "cell_type": "code",
   "execution_count": 720,
   "id": "9fb1f931",
   "metadata": {},
   "outputs": [
    {
     "data": {
      "text/html": [
       "<div>\n",
       "<style scoped>\n",
       "    .dataframe tbody tr th:only-of-type {\n",
       "        vertical-align: middle;\n",
       "    }\n",
       "\n",
       "    .dataframe tbody tr th {\n",
       "        vertical-align: top;\n",
       "    }\n",
       "\n",
       "    .dataframe thead th {\n",
       "        text-align: right;\n",
       "    }\n",
       "</style>\n",
       "<table border=\"1\" class=\"dataframe\">\n",
       "  <thead>\n",
       "    <tr style=\"text-align: right;\">\n",
       "      <th></th>\n",
       "      <th>P_value</th>\n",
       "      <th>R_squared</th>\n",
       "      <th>AIC</th>\n",
       "      <th>BIC</th>\n",
       "    </tr>\n",
       "  </thead>\n",
       "  <tbody>\n",
       "    <tr>\n",
       "      <th>acc &amp; Used Dominant Hand</th>\n",
       "      <td>0.38733</td>\n",
       "      <td>0.000007</td>\n",
       "      <td>141996.266167</td>\n",
       "      <td>142015.293138</td>\n",
       "    </tr>\n",
       "  </tbody>\n",
       "</table>\n",
       "</div>"
      ],
      "text/plain": [
       "                          P_value  R_squared            AIC            BIC\n",
       "acc & Used Dominant Hand  0.38733   0.000007  141996.266167  142015.293138"
      ]
     },
     "execution_count": 720,
     "metadata": {},
     "output_type": "execute_result"
    }
   ],
   "source": [
    "model = ols('acc ~ C(udh)', data = EDA_df).fit()\n",
    "pd.DataFrame({'P_value':model.f_pvalue, 'R_squared':model.rsquared , 'AIC':model.aic , 'BIC':model.bic}, \n",
    "             index=['acc & Used Dominant Hand'])"
   ]
  },
  {
   "cell_type": "markdown",
   "id": "e81c2d11",
   "metadata": {},
   "source": [
    "#### Accuracy & Gender"
   ]
  },
  {
   "cell_type": "code",
   "execution_count": 721,
   "id": "a6380d70",
   "metadata": {
    "scrolled": false
   },
   "outputs": [
    {
     "data": {
      "image/png": "[encoded data removed]",
      "text/plain": [
       "<Figure size 648x432 with 1 Axes>"
      ]
     },
     "metadata": {},
     "output_type": "display_data"
    }
   ],
   "source": [
    "plt.figure(figsize=(9,6))\n",
    "sns.barplot(x=EDA_df.sex, y=EDA_df.acc, palette='Set2')\n",
    "plt.xticks([0,1],['Male','Female'])\n",
    "plt.xlabel('Gender', fontsize=15)\n",
    "plt.ylabel('Accuracy', fontsize=15)\n",
    "plt.ylim(0.4,0.65)\n",
    "plt.title('Accuracy & Gender', pad=10, fontsize=30)\n",
    "plt.show();"
   ]
  },
  {
   "cell_type": "code",
   "execution_count": 722,
   "id": "56166e98",
   "metadata": {},
   "outputs": [
    {
     "data": {
      "text/html": [
       "<div>\n",
       "<style scoped>\n",
       "    .dataframe tbody tr th:only-of-type {\n",
       "        vertical-align: middle;\n",
       "    }\n",
       "\n",
       "    .dataframe tbody tr th {\n",
       "        vertical-align: top;\n",
       "    }\n",
       "\n",
       "    .dataframe thead th {\n",
       "        text-align: right;\n",
       "    }\n",
       "</style>\n",
       "<table border=\"1\" class=\"dataframe\">\n",
       "  <thead>\n",
       "    <tr style=\"text-align: right;\">\n",
       "      <th></th>\n",
       "      <th>P_value</th>\n",
       "      <th>R_squared</th>\n",
       "      <th>AIC</th>\n",
       "      <th>BIC</th>\n",
       "    </tr>\n",
       "  </thead>\n",
       "  <tbody>\n",
       "    <tr>\n",
       "      <th>acc &amp; Gender</th>\n",
       "      <td>2.605562e-17</td>\n",
       "      <td>0.000716</td>\n",
       "      <td>141925.38911</td>\n",
       "      <td>141944.41608</td>\n",
       "    </tr>\n",
       "  </tbody>\n",
       "</table>\n",
       "</div>"
      ],
      "text/plain": [
       "                   P_value  R_squared           AIC           BIC\n",
       "acc & Gender  2.605562e-17   0.000716  141925.38911  141944.41608"
      ]
     },
     "execution_count": 722,
     "metadata": {},
     "output_type": "execute_result"
    }
   ],
   "source": [
    "model = ols('acc ~ sex', data = EDA_df).fit()\n",
    "pd.DataFrame({'P_value':model.f_pvalue, 'R_squared':model.rsquared , 'AIC':model.aic , 'BIC':model.bic}, \n",
    "             index=['acc & Gender'])"
   ]
  },
  {
   "cell_type": "markdown",
   "id": "3b61958e",
   "metadata": {},
   "source": [
    "#### Accuracy & Eyedness"
   ]
  },
  {
   "cell_type": "code",
   "execution_count": 723,
   "id": "e274b20a",
   "metadata": {
    "scrolled": false
   },
   "outputs": [
    {
     "data": {
      "image/png": "[encoded data removed]",
      "text/plain": [
       "<Figure size 648x432 with 1 Axes>"
      ]
     },
     "metadata": {},
     "output_type": "display_data"
    }
   ],
   "source": [
    "plt.figure(figsize=(9,6))\n",
    "sns.barplot(x=EDA_df.eye, y=EDA_df.acc, palette='Set2', order=['l', 'r'])\n",
    "plt.xticks([0,1],['Left','Right'])\n",
    "plt.xlabel('Eyedness', fontsize=15)\n",
    "plt.ylabel('Accuracy', fontsize=15)\n",
    "plt.ylim(0.4,0.65)\n",
    "plt.title('Accuracy & Eyedness', pad=10, fontsize=30)\n",
    "plt.show();"
   ]
  },
  {
   "cell_type": "code",
   "execution_count": 724,
   "id": "92adc745",
   "metadata": {},
   "outputs": [
    {
     "data": {
      "text/html": [
       "<div>\n",
       "<style scoped>\n",
       "    .dataframe tbody tr th:only-of-type {\n",
       "        vertical-align: middle;\n",
       "    }\n",
       "\n",
       "    .dataframe tbody tr th {\n",
       "        vertical-align: top;\n",
       "    }\n",
       "\n",
       "    .dataframe thead th {\n",
       "        text-align: right;\n",
       "    }\n",
       "</style>\n",
       "<table border=\"1\" class=\"dataframe\">\n",
       "  <thead>\n",
       "    <tr style=\"text-align: right;\">\n",
       "      <th></th>\n",
       "      <th>P_value</th>\n",
       "      <th>R_squared</th>\n",
       "      <th>AIC</th>\n",
       "      <th>BIC</th>\n",
       "    </tr>\n",
       "  </thead>\n",
       "  <tbody>\n",
       "    <tr>\n",
       "      <th>acc &amp; Eyedness</th>\n",
       "      <td>2.156439e-27</td>\n",
       "      <td>0.001174</td>\n",
       "      <td>141879.443135</td>\n",
       "      <td>141898.470105</td>\n",
       "    </tr>\n",
       "  </tbody>\n",
       "</table>\n",
       "</div>"
      ],
      "text/plain": [
       "                     P_value  R_squared            AIC            BIC\n",
       "acc & Eyedness  2.156439e-27   0.001174  141879.443135  141898.470105"
      ]
     },
     "execution_count": 724,
     "metadata": {},
     "output_type": "execute_result"
    }
   ],
   "source": [
    "model = ols('acc ~ eye', data = EDA_df).fit()\n",
    "pd.DataFrame({'P_value':model.f_pvalue, 'R_squared':model.rsquared , 'AIC':model.aic , 'BIC':model.bic}, \n",
    "             index=['acc & Eyedness'])"
   ]
  },
  {
   "cell_type": "markdown",
   "id": "5a3ba362",
   "metadata": {},
   "source": [
    "---\n",
    "# Prediction of Behavioral Characteristics"
   ]
  },
  {
   "cell_type": "markdown",
   "id": "04bc293a",
   "metadata": {},
   "source": [
    "### Linear Regression for Reaction Time"
   ]
  },
  {
   "cell_type": "code",
   "execution_count": 842,
   "id": "4cf08ebc",
   "metadata": {
    "scrolled": false
   },
   "outputs": [
    {
     "name": "stdout",
     "output_type": "stream",
     "text": [
      "maximum p-value is for : \n",
      " C(pos)[T.12.0]:hndns[T.r]    0.961525\n",
      "dtype: float64\n"
     ]
    }
   ],
   "source": [
    "model1 = ols('''rt ~ C(pos) + uhnd + hndns + eye + sex + C(ecc) + C(vf) + C(udh) + C(pos)*uhnd + C(pos)*hndns + \n",
    "                     C(pos)*eye + C(pos)*sex + C(pos)*C(ecc) + C(pos)*C(vf) + C(pos)*C(udh) + uhnd*hndns + uhnd*eye + \n",
    "                     uhnd*sex + uhnd*C(ecc) + uhnd*C(vf) + uhnd*C(udh) + hndns*eye + hndns*sex + hndns*C(ecc) + \n",
    "                     hndns*C(vf) + hndns*C(udh) + eye*sex + eye*C(ecc) + eye*C(vf) + eye*C(udh) + sex*C(ecc) + \n",
    "                     sex*C(vf) + sex*C(udh) + C(ecc)*C(vf) + C(ecc)*C(udh) + C(vf)*C(udh)''', data = final_df).fit()\n",
    "\n",
    "print('maximum p-value is for :', '\\n', model1.pvalues.sort_values(ascending=False)[:1])"
   ]
  },
  {
   "cell_type": "code",
   "execution_count": 849,
   "id": "d9f95773",
   "metadata": {
    "scrolled": false
   },
   "outputs": [
    {
     "name": "stdout",
     "output_type": "stream",
     "text": [
      "maximum p-value is for : \n",
      " C(pos)[T.7.0]:eye[T.r]    0.983065\n",
      "dtype: float64\n"
     ]
    }
   ],
   "source": [
    "model2 = ols('''rt ~ C(pos) + uhnd + hndns + eye + sex + C(ecc) + C(vf) + C(udh) + C(pos)*uhnd + \n",
    "                     C(pos)*eye + C(pos)*sex + C(pos)*C(ecc) + C(pos)*C(vf) + C(pos)*C(udh) + uhnd*hndns + uhnd*eye + \n",
    "                     uhnd*sex + uhnd*C(ecc) + uhnd*C(vf) + uhnd*C(udh) + hndns*eye + hndns*sex + hndns*C(ecc) + \n",
    "                     hndns*C(vf) + hndns*C(udh) + eye*sex + eye*C(ecc) + eye*C(vf) + eye*C(udh) + sex*C(ecc) + \n",
    "                     sex*C(vf) + sex*C(udh) + C(ecc)*C(vf) + C(ecc)*C(udh) + C(vf)*C(udh)''', data = final_df).fit()\n",
    "\n",
    "print('maximum p-value is for :', '\\n', model2.pvalues.sort_values(ascending=False)[:1])"
   ]
  },
  {
   "cell_type": "code",
   "execution_count": 850,
   "id": "8206b979",
   "metadata": {
    "scrolled": false
   },
   "outputs": [
    {
     "name": "stdout",
     "output_type": "stream",
     "text": [
      "maximum p-value is for : \n",
      " C(pos)[T.9.0]:sex[T.m]    0.992883\n",
      "dtype: float64\n"
     ]
    }
   ],
   "source": [
    "model3 = ols('''rt ~ C(pos) + uhnd + hndns + eye + sex + C(ecc) + C(vf) + C(udh) + C(pos)*uhnd + \n",
    "                     C(pos)*sex + C(pos)*C(ecc) + C(pos)*C(vf) + C(pos)*C(udh) + uhnd*hndns + uhnd*eye + \n",
    "                     uhnd*sex + uhnd*C(ecc) + uhnd*C(vf) + uhnd*C(udh) + hndns*eye + hndns*sex + hndns*C(ecc) + \n",
    "                     hndns*C(vf) + hndns*C(udh) + eye*sex + eye*C(ecc) + eye*C(vf) + eye*C(udh) + sex*C(ecc) + \n",
    "                     sex*C(vf) + sex*C(udh) + C(ecc)*C(vf) + C(ecc)*C(udh) + C(vf)*C(udh)''', data = final_df).fit()\n",
    "\n",
    "print('maximum p-value is for :', '\\n', model3.pvalues.sort_values(ascending=False)[:1])"
   ]
  },
  {
   "cell_type": "code",
   "execution_count": 851,
   "id": "41e8fa6f",
   "metadata": {
    "scrolled": false
   },
   "outputs": [
    {
     "name": "stdout",
     "output_type": "stream",
     "text": [
      "maximum p-value is for : \n",
      " C(pos)[T.9.0]:C(ecc)[T.1]    0.97611\n",
      "dtype: float64\n"
     ]
    }
   ],
   "source": [
    "model4 = ols('''rt ~ C(pos) + uhnd + hndns + eye + sex + C(ecc) + C(vf) + C(udh) + C(pos)*uhnd + \n",
    "                     C(pos)*C(ecc) + C(pos)*C(vf) + C(pos)*C(udh) + uhnd*hndns + uhnd*eye + \n",
    "                     uhnd*sex + uhnd*C(ecc) + uhnd*C(vf) + uhnd*C(udh) + hndns*eye + hndns*sex + hndns*C(ecc) + \n",
    "                     hndns*C(vf) + hndns*C(udh) + eye*sex + eye*C(ecc) + eye*C(vf) + eye*C(udh) + sex*C(ecc) + \n",
    "                     sex*C(vf) + sex*C(udh) + C(ecc)*C(vf) + C(ecc)*C(udh) + C(vf)*C(udh)''', data = final_df).fit()\n",
    "\n",
    "print('maximum p-value is for :', '\\n', model4.pvalues.sort_values(ascending=False)[:1])"
   ]
  },
  {
   "cell_type": "code",
   "execution_count": 852,
   "id": "13ef42b7",
   "metadata": {
    "scrolled": false
   },
   "outputs": [
    {
     "name": "stdout",
     "output_type": "stream",
     "text": [
      "maximum p-value is for : \n",
      " uhnd[T.r]:C(vf)[T.3]    0.980098\n",
      "dtype: float64\n"
     ]
    }
   ],
   "source": [
    "model5 = ols('''rt ~ C(pos) + uhnd + hndns + eye + sex + C(ecc) + C(vf) + C(udh) + C(pos)*uhnd + \n",
    "                     C(pos)*C(vf) + C(pos)*C(udh) + uhnd*hndns + uhnd*eye + \n",
    "                     uhnd*sex + uhnd*C(ecc) + uhnd*C(vf) + uhnd*C(udh) + hndns*eye + hndns*sex + hndns*C(ecc) + \n",
    "                     hndns*C(vf) + hndns*C(udh) + eye*sex + eye*C(ecc) + eye*C(vf) + eye*C(udh) + sex*C(ecc) + \n",
    "                     sex*C(vf) + sex*C(udh) + C(ecc)*C(vf) + C(ecc)*C(udh) + C(vf)*C(udh)''', data = final_df).fit()\n",
    "\n",
    "print('maximum p-value is for :', '\\n', model5.pvalues.sort_values(ascending=False)[:1])"
   ]
  },
  {
   "cell_type": "code",
   "execution_count": 853,
   "id": "8fc781fa",
   "metadata": {
    "scrolled": false
   },
   "outputs": [
    {
     "name": "stdout",
     "output_type": "stream",
     "text": [
      "maximum p-value is for : \n",
      " C(pos)[T.4.0]:C(vf)[T.1]    0.964174\n",
      "dtype: float64\n"
     ]
    }
   ],
   "source": [
    "model6 = ols('''rt ~ C(pos) + uhnd + hndns + eye + sex + C(ecc) + C(vf) + C(udh) + C(pos)*uhnd + \n",
    "                     C(pos)*C(vf) + C(pos)*C(udh) + uhnd*hndns + uhnd*eye + \n",
    "                     uhnd*sex + uhnd*C(ecc) + uhnd*C(udh) + hndns*eye + hndns*sex + hndns*C(ecc) + \n",
    "                     hndns*C(vf) + hndns*C(udh) + eye*sex + eye*C(ecc) + eye*C(vf) + eye*C(udh) + sex*C(ecc) + \n",
    "                     sex*C(vf) + sex*C(udh) + C(ecc)*C(vf) + C(ecc)*C(udh) + C(vf)*C(udh)''', data = final_df).fit()\n",
    "\n",
    "print('maximum p-value is for :', '\\n', model6.pvalues.sort_values(ascending=False)[:1])"
   ]
  },
  {
   "cell_type": "code",
   "execution_count": 854,
   "id": "59049017",
   "metadata": {
    "scrolled": false
   },
   "outputs": [
    {
     "name": "stdout",
     "output_type": "stream",
     "text": [
      "maximum p-value is for : \n",
      " C(ecc)[T.1]:C(vf)[T.2]    0.79189\n",
      "dtype: float64\n"
     ]
    }
   ],
   "source": [
    "model7 = ols('''rt ~ C(pos) + uhnd + hndns + eye + sex + C(ecc) + C(vf) + C(udh) + C(pos)*uhnd + \n",
    "                     C(pos)*C(udh) + uhnd*hndns + uhnd*eye + \n",
    "                     uhnd*sex + uhnd*C(ecc) + uhnd*C(udh) + hndns*eye + hndns*sex + hndns*C(ecc) + \n",
    "                     hndns*C(vf) + hndns*C(udh) + eye*sex + eye*C(ecc) + eye*C(vf) + eye*C(udh) + sex*C(ecc) + \n",
    "                     sex*C(vf) + sex*C(udh) + C(ecc)*C(vf) + C(ecc)*C(udh) + C(vf)*C(udh)''', data = final_df).fit()\n",
    "\n",
    "print('maximum p-value is for :', '\\n', model7.pvalues.sort_values(ascending=False)[:1])"
   ]
  },
  {
   "cell_type": "code",
   "execution_count": 855,
   "id": "88396393",
   "metadata": {
    "scrolled": false
   },
   "outputs": [
    {
     "name": "stdout",
     "output_type": "stream",
     "text": [
      "maximum p-value is for : \n",
      " uhnd[T.r]:C(ecc)[T.2]    0.982785\n",
      "dtype: float64\n"
     ]
    }
   ],
   "source": [
    "model8 = ols('''rt ~ C(pos) + uhnd + hndns + eye + sex + C(ecc) + C(vf) + C(udh) + C(pos)*uhnd + \n",
    "                     C(pos)*C(udh) + uhnd*hndns + uhnd*eye + \n",
    "                     uhnd*sex + uhnd*C(ecc) + uhnd*C(udh) + hndns*eye + hndns*sex + hndns*C(ecc) + \n",
    "                     hndns*C(vf) + hndns*C(udh) + eye*sex + eye*C(ecc) + eye*C(vf) + eye*C(udh) + sex*C(ecc) + \n",
    "                     sex*C(vf) + sex*C(udh) + C(ecc)*C(udh) + C(vf)*C(udh)''', data = final_df).fit()\n",
    "\n",
    "print('maximum p-value is for :', '\\n', model8.pvalues.sort_values(ascending=False)[:1])"
   ]
  },
  {
   "cell_type": "code",
   "execution_count": 856,
   "id": "415eb154",
   "metadata": {
    "scrolled": false
   },
   "outputs": [
    {
     "name": "stdout",
     "output_type": "stream",
     "text": [
      "maximum p-value is for : \n",
      " C(pos)[T.5.0]:uhnd[T.r]    0.988093\n",
      "dtype: float64\n"
     ]
    }
   ],
   "source": [
    "model9 = ols('''rt ~ C(pos) + uhnd + hndns + eye + sex + C(ecc) + C(vf) + C(udh) + C(pos)*uhnd + \n",
    "                     C(pos)*C(udh) + uhnd*hndns + uhnd*eye + \n",
    "                     uhnd*sex + uhnd*C(udh) + hndns*eye + hndns*sex + hndns*C(ecc) + \n",
    "                     hndns*C(vf) + hndns*C(udh) + eye*sex + eye*C(ecc) + eye*C(vf) + eye*C(udh) + sex*C(ecc) + \n",
    "                     sex*C(vf) + sex*C(udh) + C(ecc)*C(udh) + C(vf)*C(udh)''', data = final_df).fit()\n",
    "\n",
    "print('maximum p-value is for :', '\\n', model9.pvalues.sort_values(ascending=False)[:1])"
   ]
  },
  {
   "cell_type": "code",
   "execution_count": 857,
   "id": "cc490632",
   "metadata": {
    "scrolled": false
   },
   "outputs": [
    {
     "name": "stdout",
     "output_type": "stream",
     "text": [
      "maximum p-value is for : \n",
      " C(pos)[T.2.0]:C(udh)[T.1]    0.98781\n",
      "dtype: float64\n"
     ]
    }
   ],
   "source": [
    "model10 = ols('''rt ~ C(pos) + uhnd + hndns + eye + sex + C(ecc) + C(vf) + C(udh) + \n",
    "                     C(pos)*C(udh) + uhnd*hndns + uhnd*eye + \n",
    "                     uhnd*sex + uhnd*C(udh) + hndns*eye + hndns*sex + hndns*C(ecc) + \n",
    "                     hndns*C(vf) + hndns*C(udh) + eye*sex + eye*C(ecc) + eye*C(vf) + eye*C(udh) + sex*C(ecc) + \n",
    "                     sex*C(vf) + sex*C(udh) + C(ecc)*C(udh) + C(vf)*C(udh)''', data = final_df).fit()\n",
    "\n",
    "print('maximum p-value is for :', '\\n', model10.pvalues.sort_values(ascending=False)[:1])"
   ]
  },
  {
   "cell_type": "code",
   "execution_count": 858,
   "id": "474c77b7",
   "metadata": {
    "scrolled": false
   },
   "outputs": [
    {
     "name": "stdout",
     "output_type": "stream",
     "text": [
      "maximum p-value is for : \n",
      " hndns[T.r]:sex[T.m]    0.958957\n",
      "dtype: float64\n"
     ]
    }
   ],
   "source": [
    "model11 = ols('''rt ~ C(pos) + uhnd + hndns + eye + sex + C(ecc) + C(vf) + C(udh) + uhnd*hndns + uhnd*eye + \n",
    "                      uhnd*sex + uhnd*C(udh) + hndns*eye + hndns*sex + hndns*C(ecc) + \n",
    "                      hndns*C(vf) + hndns*C(udh) + eye*sex + eye*C(ecc) + eye*C(vf) + eye*C(udh) + sex*C(ecc) + \n",
    "                      sex*C(vf) + sex*C(udh) + C(ecc)*C(udh) + C(vf)*C(udh)''', data = final_df).fit()\n",
    "\n",
    "print('maximum p-value is for :', '\\n', model11.pvalues.sort_values(ascending=False)[:1])"
   ]
  },
  {
   "cell_type": "code",
   "execution_count": 859,
   "id": "1fd9f55c",
   "metadata": {
    "scrolled": false
   },
   "outputs": [
    {
     "name": "stdout",
     "output_type": "stream",
     "text": [
      "maximum p-value is for : \n",
      " hndns[T.r]:C(udh)[T.1]    0.962795\n",
      "dtype: float64\n"
     ]
    }
   ],
   "source": [
    "model12 = ols('''rt ~ C(pos) + uhnd + hndns + eye + sex + C(ecc) + C(vf) + C(udh) + uhnd*hndns + uhnd*eye + \n",
    "                      uhnd*sex + uhnd*C(udh) + hndns*eye + hndns*C(ecc) + \n",
    "                      hndns*C(vf) + hndns*C(udh) + eye*sex + eye*C(ecc) + eye*C(vf) + eye*C(udh) + sex*C(ecc) + \n",
    "                      sex*C(vf) + sex*C(udh) + C(ecc)*C(udh) + C(vf)*C(udh)''', data = final_df).fit()\n",
    "\n",
    "print('maximum p-value is for :', '\\n', model12.pvalues.sort_values(ascending=False)[:1])"
   ]
  },
  {
   "cell_type": "code",
   "execution_count": 860,
   "id": "41962bb2",
   "metadata": {
    "scrolled": false
   },
   "outputs": [
    {
     "name": "stdout",
     "output_type": "stream",
     "text": [
      "maximum p-value is for : \n",
      " C(vf)[T.2]    0.862085\n",
      "dtype: float64\n"
     ]
    }
   ],
   "source": [
    "model13 = ols('''rt ~ C(pos) + uhnd + hndns + eye + sex + C(ecc) + C(vf) + C(udh) + uhnd*hndns + uhnd*eye + \n",
    "                      uhnd*sex + uhnd*C(udh) + hndns*eye + hndns*C(ecc) + \n",
    "                      hndns*C(vf) + eye*sex + eye*C(ecc) + eye*C(vf) + eye*C(udh) + sex*C(ecc) + \n",
    "                      sex*C(vf) + sex*C(udh) + C(ecc)*C(udh) + C(vf)*C(udh)''', data = final_df).fit()\n",
    "\n",
    "print('maximum p-value is for :', '\\n', model13.pvalues.sort_values(ascending=False)[:1])"
   ]
  },
  {
   "cell_type": "code",
   "execution_count": 861,
   "id": "87ee0bb4",
   "metadata": {
    "scrolled": false
   },
   "outputs": [
    {
     "name": "stdout",
     "output_type": "stream",
     "text": [
      "maximum p-value is for : \n",
      " uhnd[T.r]:C(udh)[T.1]    0.699963\n",
      "dtype: float64\n"
     ]
    }
   ],
   "source": [
    "model14 = ols('''rt ~ C(pos) + uhnd + hndns + eye + sex + C(ecc) + C(udh) + uhnd*hndns + uhnd*eye + \n",
    "                      uhnd*sex + uhnd*C(udh) + hndns*eye + hndns*C(ecc) + \n",
    "                      hndns*C(vf) + eye*sex + eye*C(ecc) + eye*C(vf) + eye*C(udh) + sex*C(ecc) + \n",
    "                      sex*C(vf) + sex*C(udh) + C(ecc)*C(udh) + C(vf)*C(udh)''', data = final_df).fit()\n",
    "\n",
    "print('maximum p-value is for :', '\\n', model14.pvalues.sort_values(ascending=False)[:1])"
   ]
  },
  {
   "cell_type": "code",
   "execution_count": 862,
   "id": "545610bc",
   "metadata": {
    "scrolled": false
   },
   "outputs": [
    {
     "name": "stdout",
     "output_type": "stream",
     "text": [
      "maximum p-value is for : \n",
      " hndns[T.r]:C(vf)[T.3]    0.974265\n",
      "dtype: float64\n"
     ]
    }
   ],
   "source": [
    "model15 = ols('''rt ~ C(pos) + uhnd + hndns + eye + sex + C(ecc) + C(udh) + uhnd*hndns + uhnd*eye + \n",
    "                      uhnd*sex + hndns*eye + hndns*C(ecc) + \n",
    "                      hndns*C(vf) + eye*sex + eye*C(ecc) + eye*C(vf) + eye*C(udh) + sex*C(ecc) + \n",
    "                      sex*C(vf) + sex*C(udh) + C(ecc)*C(udh) + C(vf)*C(udh)''', data = final_df).fit()\n",
    "\n",
    "print('maximum p-value is for :', '\\n', model15.pvalues.sort_values(ascending=False)[:1])"
   ]
  },
  {
   "cell_type": "code",
   "execution_count": 863,
   "id": "b3eb009e",
   "metadata": {
    "scrolled": false
   },
   "outputs": [
    {
     "name": "stdout",
     "output_type": "stream",
     "text": [
      "maximum p-value is for : \n",
      " uhnd[T.r]    0.96098\n",
      "dtype: float64\n"
     ]
    }
   ],
   "source": [
    "model16 = ols('''rt ~ C(pos) + uhnd + hndns + eye + sex + C(ecc) + C(udh) + uhnd*hndns + uhnd*eye + \n",
    "                      uhnd*sex + hndns*eye + hndns*C(ecc) + eye*sex + eye*C(ecc) + eye*C(vf) + eye*C(udh) + sex*C(ecc) + \n",
    "                      sex*C(vf) + sex*C(udh) + C(ecc)*C(udh) + C(vf)*C(udh)''', data = final_df).fit()\n",
    "\n",
    "print('maximum p-value is for :', '\\n', model16.pvalues.sort_values(ascending=False)[:1])"
   ]
  },
  {
   "cell_type": "code",
   "execution_count": 864,
   "id": "4ddf3971",
   "metadata": {
    "scrolled": false
   },
   "outputs": [
    {
     "name": "stdout",
     "output_type": "stream",
     "text": [
      "maximum p-value is for : \n",
      " uhnd[T.r]    0.881295\n",
      "dtype: float64\n"
     ]
    }
   ],
   "source": [
    "model17 = ols('''rt ~ C(pos) + hndns + eye + sex + C(ecc) + C(udh) + uhnd*hndns + uhnd*eye + \n",
    "                      uhnd*sex + hndns*eye + hndns*C(ecc) + eye*sex + eye*C(ecc) + eye*C(vf) + eye*C(udh) + sex*C(ecc) + \n",
    "                      sex*C(vf) + sex*C(udh) + C(ecc)*C(udh) + C(vf)*C(udh)''', data = final_df).fit()\n",
    "\n",
    "print('maximum p-value is for :', '\\n', model17.pvalues.sort_values(ascending=False)[:1])"
   ]
  },
  {
   "cell_type": "code",
   "execution_count": 865,
   "id": "3df74be1",
   "metadata": {
    "scrolled": false
   },
   "outputs": [
    {
     "name": "stdout",
     "output_type": "stream",
     "text": [
      "maximum p-value is for : \n",
      " C(vf)[T.2]    0.835693\n",
      "dtype: float64\n"
     ]
    }
   ],
   "source": [
    "model18 = ols('''rt ~ C(pos) + hndns + eye + sex + C(ecc) + C(udh) + uhnd*eye + \n",
    "                      uhnd*sex + hndns*eye + hndns*C(ecc) + eye*sex + eye*C(ecc) + eye*C(vf) + eye*C(udh) + sex*C(ecc) + \n",
    "                      sex*C(vf) + sex*C(udh) + C(ecc)*C(udh) + C(vf)*C(udh)''', data = final_df).fit()\n",
    "\n",
    "print('maximum p-value is for :', '\\n', model18.pvalues.sort_values(ascending=False)[:1])"
   ]
  },
  {
   "cell_type": "code",
   "execution_count": 866,
   "id": "f7106345",
   "metadata": {
    "scrolled": false
   },
   "outputs": [
    {
     "name": "stdout",
     "output_type": "stream",
     "text": [
      "maximum p-value is for : \n",
      " sex[T.m]:C(vf)[T.4]    0.859232\n",
      "dtype: float64\n"
     ]
    }
   ],
   "source": [
    "model19 = ols('''rt ~ C(pos) + hndns + eye + sex + C(ecc) + C(udh) + uhnd*eye + \n",
    "                      uhnd*sex + hndns*eye + hndns*C(ecc) + eye*sex + eye*C(ecc) + eye*C(udh) + sex*C(ecc) + \n",
    "                      sex*C(vf) + sex*C(udh) + C(ecc)*C(udh) + C(vf)*C(udh)''', data = final_df).fit()\n",
    "\n",
    "print('maximum p-value is for :', '\\n', model19.pvalues.sort_values(ascending=False)[:1])"
   ]
  },
  {
   "cell_type": "code",
   "execution_count": 867,
   "id": "0c263964",
   "metadata": {
    "scrolled": false
   },
   "outputs": [
    {
     "name": "stdout",
     "output_type": "stream",
     "text": [
      "maximum p-value is for : \n",
      " C(vf)[T.2]    0.940551\n",
      "dtype: float64\n"
     ]
    }
   ],
   "source": [
    "model20 = ols('''rt ~ C(pos) + hndns + eye + sex + C(ecc) + C(udh) + uhnd*eye + \n",
    "                      uhnd*sex + hndns*eye + hndns*C(ecc) + eye*sex + eye*C(ecc) + eye*C(udh) + sex*C(ecc) + \n",
    "                      sex*C(udh) + C(ecc)*C(udh) + C(vf)*C(udh)''', data = final_df).fit()\n",
    "\n",
    "print('maximum p-value is for :', '\\n', model20.pvalues.sort_values(ascending=False)[:1])"
   ]
  },
  {
   "cell_type": "code",
   "execution_count": 868,
   "id": "faf79308",
   "metadata": {
    "scrolled": false
   },
   "outputs": [
    {
     "name": "stdout",
     "output_type": "stream",
     "text": [
      "maximum p-value is for : \n",
      " C(ecc)[T.2]:C(udh)[T.1]    0.929793\n",
      "dtype: float64\n"
     ]
    }
   ],
   "source": [
    "model21 = ols('''rt ~ C(pos) + hndns + eye + sex + C(ecc) + C(udh) + uhnd*eye + \n",
    "                      uhnd*sex + hndns*eye + hndns*C(ecc) + eye*sex + eye*C(ecc) + eye*C(udh) + sex*C(ecc) + \n",
    "                      sex*C(udh) + C(ecc)*C(udh)''', data = final_df).fit()\n",
    "\n",
    "print('maximum p-value is for :', '\\n', model21.pvalues.sort_values(ascending=False)[:1])"
   ]
  },
  {
   "cell_type": "code",
   "execution_count": 869,
   "id": "cbafc466",
   "metadata": {
    "scrolled": false
   },
   "outputs": [
    {
     "name": "stdout",
     "output_type": "stream",
     "text": [
      "maximum p-value is for : \n",
      " eye[T.r]:C(ecc)[T.2]    0.57977\n",
      "dtype: float64\n"
     ]
    }
   ],
   "source": [
    "model22 = ols('''rt ~ C(pos) + hndns + eye + sex + C(ecc) + C(udh) + uhnd*eye + \n",
    "                      uhnd*sex + hndns*eye + hndns*C(ecc) + eye*sex + eye*C(ecc) + eye*C(udh) + sex*C(ecc) + \n",
    "                      sex*C(udh)''', data = final_df).fit()\n",
    "\n",
    "print('maximum p-value is for :', '\\n', model22.pvalues.sort_values(ascending=False)[:1])"
   ]
  },
  {
   "cell_type": "code",
   "execution_count": 870,
   "id": "afd89281",
   "metadata": {
    "scrolled": false
   },
   "outputs": [
    {
     "name": "stdout",
     "output_type": "stream",
     "text": [
      "maximum p-value is for : \n",
      " hndns[T.r]:C(ecc)[T.1]    0.331929\n",
      "dtype: float64\n"
     ]
    }
   ],
   "source": [
    "model23 = ols('''rt ~ C(pos) + hndns + eye + sex + C(ecc) + C(udh) + uhnd*eye + \n",
    "                      uhnd*sex + hndns*eye + hndns*C(ecc) + eye*sex + eye*C(udh) + sex*C(ecc) + \n",
    "                      sex*C(udh)''', data = final_df).fit()\n",
    "\n",
    "print('maximum p-value is for :', '\\n', model23.pvalues.sort_values(ascending=False)[:1])"
   ]
  },
  {
   "cell_type": "code",
   "execution_count": 871,
   "id": "08b17eda",
   "metadata": {
    "scrolled": false
   },
   "outputs": [
    {
     "name": "stdout",
     "output_type": "stream",
     "text": [
      "maximum p-value is for : \n",
      " sex[T.m]:C(ecc)[T.1]    0.296355\n",
      "dtype: float64\n"
     ]
    }
   ],
   "source": [
    "model24 = ols('''rt ~ C(pos) + hndns + eye + sex + C(ecc) + C(udh) + uhnd*eye + \n",
    "                      uhnd*sex + hndns*eye + eye*sex + eye*C(udh) + sex*C(ecc) + \n",
    "                      sex*C(udh)''', data = final_df).fit()\n",
    "\n",
    "print('maximum p-value is for :', '\\n', model24.pvalues.sort_values(ascending=False)[:1])"
   ]
  },
  {
   "cell_type": "code",
   "execution_count": 872,
   "id": "7db1822f",
   "metadata": {
    "scrolled": false
   },
   "outputs": [
    {
     "name": "stdout",
     "output_type": "stream",
     "text": [
      "maximum p-value is for : \n",
      " C(pos)[T.8.0]    0.178128\n",
      "dtype: float64\n"
     ]
    }
   ],
   "source": [
    "model25 = ols('''rt ~ C(pos) + hndns + eye + sex + C(ecc) + C(udh) + uhnd*eye + \n",
    "                      uhnd*sex + hndns*eye + eye*sex + eye*C(udh) + \n",
    "                      sex*C(udh)''', data = final_df).fit()\n",
    "\n",
    "print('maximum p-value is for :', '\\n', model25.pvalues.sort_values(ascending=False)[:1])"
   ]
  },
  {
   "cell_type": "code",
   "execution_count": 873,
   "id": "60df2dc7",
   "metadata": {
    "scrolled": false
   },
   "outputs": [
    {
     "name": "stdout",
     "output_type": "stream",
     "text": [
      "maximum p-value is for : \n",
      " C(udh)[T.1]    0.665134\n",
      "dtype: float64\n"
     ]
    }
   ],
   "source": [
    "model26 = ols('''rt ~ hndns + eye + sex + C(ecc) + C(udh) + uhnd*eye + \n",
    "                      uhnd*sex + hndns*eye + eye*sex + eye*C(udh) + \n",
    "                      sex*C(udh)''', data = final_df).fit()\n",
    "\n",
    "print('maximum p-value is for :', '\\n', model26.pvalues.sort_values(ascending=False)[:1])"
   ]
  },
  {
   "cell_type": "code",
   "execution_count": 874,
   "id": "bf4c51d7",
   "metadata": {
    "scrolled": false
   },
   "outputs": [
    {
     "name": "stdout",
     "output_type": "stream",
     "text": [
      "maximum p-value is for : \n",
      " C(ecc)[T.2]    0.283122\n",
      "dtype: float64\n"
     ]
    }
   ],
   "source": [
    "model27 = ols('''rt ~ hndns + eye + sex + C(ecc) + uhnd*eye + \n",
    "                      uhnd*sex + hndns*eye + eye*sex + eye*C(udh) + \n",
    "                      sex*C(udh)''', data = final_df).fit()\n",
    "\n",
    "print('maximum p-value is for :', '\\n', model27.pvalues.sort_values(ascending=False)[:1])"
   ]
  },
  {
   "cell_type": "code",
   "execution_count": 875,
   "id": "23b3564b",
   "metadata": {
    "scrolled": false
   },
   "outputs": [
    {
     "name": "stdout",
     "output_type": "stream",
     "text": [
      "maximum p-value is for : \n",
      " C(udh)[T.1]    0.828947\n",
      "dtype: float64\n"
     ]
    }
   ],
   "source": [
    "model28 = ols('''rt ~ hndns + eye + sex + uhnd*eye + \n",
    "                      uhnd*sex + hndns*eye + eye*sex + eye*C(udh) + \n",
    "                      sex*C(udh)''', data = final_df).fit()\n",
    "\n",
    "print('maximum p-value is for :', '\\n', model28.pvalues.sort_values(ascending=False)[:1])"
   ]
  },
  {
   "cell_type": "code",
   "execution_count": 876,
   "id": "ea00bddf",
   "metadata": {
    "scrolled": false
   },
   "outputs": [
    {
     "name": "stdout",
     "output_type": "stream",
     "text": [
      "maximum p-value is for : \n",
      " C(udh)[T.1]    0.826353\n",
      "dtype: float64\n"
     ]
    }
   ],
   "source": [
    "model29 = ols('''rt ~ hndns + eye + sex + uhnd*eye + \n",
    "                      uhnd*sex + hndns*eye + eye*sex + \n",
    "                      sex*C(udh)''', data = final_df).fit()\n",
    "\n",
    "print('maximum p-value is for :', '\\n', model29.pvalues.sort_values(ascending=False)[:1])"
   ]
  },
  {
   "cell_type": "code",
   "execution_count": 877,
   "id": "65f67698",
   "metadata": {
    "scrolled": false
   },
   "outputs": [
    {
     "name": "stdout",
     "output_type": "stream",
     "text": [
      "maximum p-value is for : \n",
      " uhnd[T.r]    0.72576\n",
      "dtype: float64\n"
     ]
    }
   ],
   "source": [
    "model30 = ols('''rt ~ hndns + eye + sex + uhnd*eye + \n",
    "                      uhnd*sex + hndns*eye + eye*sex''', data = final_df).fit()\n",
    "\n",
    "print('maximum p-value is for :', '\\n', model30.pvalues.sort_values(ascending=False)[:1])"
   ]
  },
  {
   "cell_type": "code",
   "execution_count": 878,
   "id": "cbf9a10a",
   "metadata": {
    "scrolled": false
   },
   "outputs": [
    {
     "name": "stdout",
     "output_type": "stream",
     "text": [
      "maximum p-value is for : \n",
      " hndns[T.r]:eye[T.r]    0.145468\n",
      "dtype: float64\n"
     ]
    }
   ],
   "source": [
    "model31 = ols('''rt ~ hndns + eye + sex + uhnd*sex + hndns*eye + eye*sex''', data = final_df).fit()\n",
    "\n",
    "print('maximum p-value is for :', '\\n', model31.pvalues.sort_values(ascending=False)[:1])"
   ]
  },
  {
   "cell_type": "code",
   "execution_count": 879,
   "id": "a33894a4",
   "metadata": {
    "scrolled": false
   },
   "outputs": [
    {
     "name": "stdout",
     "output_type": "stream",
     "text": [
      "maximum p-value is for : \n",
      " uhnd[T.r]    0.101206\n",
      "dtype: float64\n"
     ]
    }
   ],
   "source": [
    "model32 = ols('''rt ~ hndns + eye + sex + uhnd*sex + eye*sex''', data = final_df).fit()\n",
    "\n",
    "print('maximum p-value is for :', '\\n', model32.pvalues.sort_values(ascending=False)[:1])"
   ]
  },
  {
   "cell_type": "code",
   "execution_count": 880,
   "id": "82285ee0",
   "metadata": {
    "scrolled": false
   },
   "outputs": [
    {
     "name": "stdout",
     "output_type": "stream",
     "text": [
      "maximum p-value is for : \n",
      " eye[T.r]:sex[T.m]    0.000254\n",
      "dtype: float64\n"
     ]
    }
   ],
   "source": [
    "model33 = ols('''rt ~ hndns + eye + sex + eye*sex''', data = final_df).fit()\n",
    "\n",
    "print('maximum p-value is for :', '\\n', model33.pvalues.sort_values(ascending=False)[:1])"
   ]
  },
  {
   "cell_type": "code",
   "execution_count": 884,
   "id": "7b4b14f7",
   "metadata": {},
   "outputs": [
    {
     "name": "stdout",
     "output_type": "stream",
     "text": [
      "                            OLS Regression Results                            \n",
      "==============================================================================\n",
      "Dep. Variable:                     rt   R-squared:                       0.011\n",
      "Model:                            OLS   Adj. R-squared:                  0.011\n",
      "Method:                 Least Squares   F-statistic:                     307.7\n",
      "Date:                Wed, 30 Mar 2022   Prob (F-statistic):          8.85e-264\n",
      "Time:                        21:41:11   Log-Likelihood:            -7.7031e+05\n",
      "No. Observations:              112419   AIC:                         1.541e+06\n",
      "Df Residuals:                  112414   BIC:                         1.541e+06\n",
      "Df Model:                           4                                         \n",
      "Covariance Type:            nonrobust                                         \n",
      "=====================================================================================\n",
      "                        coef    std err          t      P>|t|      [0.025      0.975]\n",
      "-------------------------------------------------------------------------------------\n",
      "Intercept           681.3829      2.846    239.446      0.000     675.805     686.960\n",
      "hndns[T.r]          -38.1270      2.189    -17.416      0.000     -42.418     -33.836\n",
      "eye[T.r]             16.2530      2.404      6.761      0.000      11.541      20.965\n",
      "sex[T.m]            -44.3948      2.376    -18.685      0.000     -49.052     -39.738\n",
      "eye[T.r]:sex[T.m]   -10.9383      2.990     -3.658      0.000     -16.799      -5.078\n",
      "==============================================================================\n",
      "Omnibus:                      495.559   Durbin-Watson:                   0.855\n",
      "Prob(Omnibus):                  0.000   Jarque-Bera (JB):              532.484\n",
      "Skew:                           0.134   Prob(JB):                    2.36e-116\n",
      "Kurtosis:                       3.205   Cond. No.                         11.7\n",
      "==============================================================================\n",
      "\n",
      "Notes:\n",
      "[1] Standard Errors assume that the covariance matrix of the errors is correctly specified.\n"
     ]
    }
   ],
   "source": [
    "print(model33.summary())"
   ]
  },
  {
   "cell_type": "markdown",
   "id": "bec2c531",
   "metadata": {},
   "source": [
    "### Logistic Regression for Accuracy"
   ]
  },
  {
   "cell_type": "code",
   "execution_count": 914,
   "id": "fe2065c9",
   "metadata": {
    "scrolled": false
   },
   "outputs": [
    {
     "name": "stdout",
     "output_type": "stream",
     "text": [
      "Warning: Maximum number of iterations has been exceeded.\n",
      "         Current function value: 0.674921\n",
      "         Iterations: 35\n",
      "maximum p-value is for : \n",
      " uhnd[T.r]:hndns[T.r]    1.0\n",
      "dtype: float64\n"
     ]
    },
    {
     "name": "stderr",
     "output_type": "stream",
     "text": [
      "C:\\Users\\MAHYAR\\anaconda3\\envs\\DA\\lib\\site-packages\\statsmodels\\base\\model.py:604: ConvergenceWarning: Maximum Likelihood optimization failed to converge. Check mle_retvals\n",
      "  warnings.warn(\"Maximum Likelihood optimization failed to \"\n"
     ]
    }
   ],
   "source": [
    "lr_model1 = logit('''acc ~ pos + uhnd + hndns + eye + sex + C(ecc) + C(vf) + C(udh) + pos*uhnd + pos*hndns + \n",
    "                           pos*eye + pos*sex + pos*C(ecc) + pos*C(vf) + pos*C(udh) + uhnd*hndns + \n",
    "                           uhnd*eye + uhnd*sex + uhnd*C(ecc) + uhnd*C(vf) + uhnd*C(udh) + hndns*eye + hndns*sex + \n",
    "                           hndns*C(ecc) + hndns*C(vf) + hndns*C(udh) + eye*sex + eye*C(ecc) + eye*C(vf) + eye*C(udh) + \n",
    "                           sex*C(ecc) + sex*C(vf) + sex*C(udh) + C(ecc)*C(vf) + C(ecc)*C(udh) + \n",
    "                           C(vf)*C(udh)''', data = EDA_df).fit()\n",
    "\n",
    "print('maximum p-value is for :', '\\n', lr_model1.pvalues.sort_values(ascending=False)[:1])"
   ]
  },
  {
   "cell_type": "code",
   "execution_count": 916,
   "id": "4d383e6c",
   "metadata": {
    "scrolled": false
   },
   "outputs": [
    {
     "name": "stdout",
     "output_type": "stream",
     "text": [
      "Warning: Maximum number of iterations has been exceeded.\n",
      "         Current function value: 0.674921\n",
      "         Iterations: 35\n",
      "maximum p-value is for : \n",
      " hndns[T.r]:C(udh)[T.1]    1.0\n",
      "dtype: float64\n"
     ]
    },
    {
     "name": "stderr",
     "output_type": "stream",
     "text": [
      "C:\\Users\\MAHYAR\\anaconda3\\envs\\DA\\lib\\site-packages\\statsmodels\\base\\model.py:604: ConvergenceWarning: Maximum Likelihood optimization failed to converge. Check mle_retvals\n",
      "  warnings.warn(\"Maximum Likelihood optimization failed to \"\n"
     ]
    }
   ],
   "source": [
    "lr_model2 = logit('''acc ~ pos + uhnd + hndns + eye + sex + C(ecc) + C(vf) + C(udh) + pos*uhnd + pos*hndns + \n",
    "                           pos*eye + pos*sex + pos*C(ecc) + pos*C(vf) + pos*C(udh) + \n",
    "                           uhnd*eye + uhnd*sex + uhnd*C(ecc) + uhnd*C(vf) + uhnd*C(udh) + hndns*eye + hndns*sex + \n",
    "                           hndns*C(ecc) + hndns*C(vf) + hndns*C(udh) + eye*sex + eye*C(ecc) + eye*C(vf) + eye*C(udh) + \n",
    "                           sex*C(ecc) + sex*C(vf) + sex*C(udh) + C(ecc)*C(vf) + C(ecc)*C(udh) + \n",
    "                           C(vf)*C(udh)''', data = EDA_df).fit()\n",
    "\n",
    "print('maximum p-value is for :', '\\n', lr_model2.pvalues.sort_values(ascending=False)[:1])"
   ]
  },
  {
   "cell_type": "code",
   "execution_count": 917,
   "id": "3dcffad6",
   "metadata": {
    "scrolled": false
   },
   "outputs": [
    {
     "name": "stdout",
     "output_type": "stream",
     "text": [
      "Warning: Maximum number of iterations has been exceeded.\n",
      "         Current function value: 0.674921\n",
      "         Iterations: 35\n",
      "maximum p-value is for : \n",
      " eye[T.r]:C(ecc)[T.1]    1.0\n",
      "dtype: float64\n"
     ]
    },
    {
     "name": "stderr",
     "output_type": "stream",
     "text": [
      "C:\\Users\\MAHYAR\\anaconda3\\envs\\DA\\lib\\site-packages\\statsmodels\\base\\model.py:604: ConvergenceWarning: Maximum Likelihood optimization failed to converge. Check mle_retvals\n",
      "  warnings.warn(\"Maximum Likelihood optimization failed to \"\n"
     ]
    }
   ],
   "source": [
    "lr_model3 = logit('''acc ~ pos + uhnd + hndns + eye + sex + C(ecc) + C(vf) + C(udh) + pos*uhnd + pos*hndns + \n",
    "                           pos*eye + pos*sex + pos*C(ecc) + pos*C(vf) + pos*C(udh) + \n",
    "                           uhnd*eye + uhnd*sex + uhnd*C(ecc) + uhnd*C(vf) + uhnd*C(udh) + hndns*eye + hndns*sex + \n",
    "                           hndns*C(ecc) + hndns*C(vf) + eye*sex + eye*C(ecc) + eye*C(vf) + eye*C(udh) + \n",
    "                           sex*C(ecc) + sex*C(vf) + sex*C(udh) + C(ecc)*C(vf) + C(ecc)*C(udh) + \n",
    "                           C(vf)*C(udh)''', data = EDA_df).fit()\n",
    "\n",
    "print('maximum p-value is for :', '\\n', lr_model3.pvalues.sort_values(ascending=False)[:1])"
   ]
  },
  {
   "cell_type": "code",
   "execution_count": 918,
   "id": "7a6e1d81",
   "metadata": {
    "scrolled": false
   },
   "outputs": [
    {
     "name": "stdout",
     "output_type": "stream",
     "text": [
      "Warning: Maximum number of iterations has been exceeded.\n",
      "         Current function value: 0.674937\n",
      "         Iterations: 35\n",
      "maximum p-value is for : \n",
      " uhnd[T.r]    1.0\n",
      "dtype: float64\n"
     ]
    },
    {
     "name": "stderr",
     "output_type": "stream",
     "text": [
      "C:\\Users\\MAHYAR\\anaconda3\\envs\\DA\\lib\\site-packages\\statsmodels\\base\\model.py:604: ConvergenceWarning: Maximum Likelihood optimization failed to converge. Check mle_retvals\n",
      "  warnings.warn(\"Maximum Likelihood optimization failed to \"\n"
     ]
    }
   ],
   "source": [
    "lr_model4 = logit('''acc ~ pos + uhnd + hndns + eye + sex + C(ecc) + C(vf) + C(udh) + pos*uhnd + pos*hndns + \n",
    "                           pos*eye + pos*sex + pos*C(ecc) + pos*C(vf) + pos*C(udh) + \n",
    "                           uhnd*eye + uhnd*sex + uhnd*C(ecc) + uhnd*C(vf) + uhnd*C(udh) + hndns*eye + hndns*sex + \n",
    "                           hndns*C(ecc) + hndns*C(vf) + eye*sex + eye*C(vf) + eye*C(udh) + \n",
    "                           sex*C(ecc) + sex*C(vf) + sex*C(udh) + C(ecc)*C(vf) + C(ecc)*C(udh) + \n",
    "                           C(vf)*C(udh)''', data = EDA_df).fit()\n",
    "\n",
    "print('maximum p-value is for :', '\\n', lr_model4.pvalues.sort_values(ascending=False)[:1])"
   ]
  },
  {
   "cell_type": "code",
   "execution_count": 919,
   "id": "650e2cf8",
   "metadata": {
    "scrolled": false
   },
   "outputs": [
    {
     "name": "stdout",
     "output_type": "stream",
     "text": [
      "Warning: Maximum number of iterations has been exceeded.\n",
      "         Current function value: 0.674937\n",
      "         Iterations: 35\n",
      "maximum p-value is for : \n",
      " C(ecc)[T.2]:C(vf)[T.4]    1.0\n",
      "dtype: float64\n"
     ]
    },
    {
     "name": "stderr",
     "output_type": "stream",
     "text": [
      "C:\\Users\\MAHYAR\\anaconda3\\envs\\DA\\lib\\site-packages\\statsmodels\\base\\model.py:604: ConvergenceWarning: Maximum Likelihood optimization failed to converge. Check mle_retvals\n",
      "  warnings.warn(\"Maximum Likelihood optimization failed to \"\n"
     ]
    }
   ],
   "source": [
    "lr_model5 = logit('''acc ~ pos + hndns + eye + sex + C(ecc) + C(vf) + C(udh) + pos*uhnd + pos*hndns + \n",
    "                           pos*eye + pos*sex + pos*C(ecc) + pos*C(vf) + pos*C(udh) + \n",
    "                           uhnd*eye + uhnd*sex + uhnd*C(ecc) + uhnd*C(vf) + uhnd*C(udh) + hndns*eye + hndns*sex + \n",
    "                           hndns*C(ecc) + hndns*C(vf) + eye*sex + eye*C(vf) + eye*C(udh) + \n",
    "                           sex*C(ecc) + sex*C(vf) + sex*C(udh) + C(ecc)*C(vf) + C(ecc)*C(udh) + \n",
    "                           C(vf)*C(udh)''', data = EDA_df).fit()\n",
    "\n",
    "print('maximum p-value is for :', '\\n', lr_model5.pvalues.sort_values(ascending=False)[:1])"
   ]
  },
  {
   "cell_type": "code",
   "execution_count": 920,
   "id": "6ce4e98f",
   "metadata": {
    "scrolled": false
   },
   "outputs": [
    {
     "name": "stdout",
     "output_type": "stream",
     "text": [
      "Warning: Maximum number of iterations has been exceeded.\n",
      "         Current function value: 0.674988\n",
      "         Iterations: 35\n",
      "maximum p-value is for : \n",
      " C(vf)[T.1]:C(udh)[T.1]    1.0\n",
      "dtype: float64\n"
     ]
    },
    {
     "name": "stderr",
     "output_type": "stream",
     "text": [
      "C:\\Users\\MAHYAR\\anaconda3\\envs\\DA\\lib\\site-packages\\statsmodels\\base\\model.py:604: ConvergenceWarning: Maximum Likelihood optimization failed to converge. Check mle_retvals\n",
      "  warnings.warn(\"Maximum Likelihood optimization failed to \"\n"
     ]
    }
   ],
   "source": [
    "lr_model6 = logit('''acc ~ pos + hndns + eye + sex + C(ecc) + C(vf) + C(udh) + pos*uhnd + pos*hndns + \n",
    "                           pos*eye + pos*sex + pos*C(ecc) + pos*C(vf) + pos*C(udh) + \n",
    "                           uhnd*eye + uhnd*sex + uhnd*C(ecc) + uhnd*C(vf) + uhnd*C(udh) + hndns*eye + hndns*sex + \n",
    "                           hndns*C(ecc) + hndns*C(vf) + eye*sex + eye*C(vf) + eye*C(udh) + \n",
    "                           sex*C(ecc) + sex*C(vf) + sex*C(udh) + C(ecc)*C(udh) + \n",
    "                           C(vf)*C(udh)''', data = EDA_df).fit()\n",
    "\n",
    "print('maximum p-value is for :', '\\n', lr_model6.pvalues.sort_values(ascending=False)[:1])"
   ]
  },
  {
   "cell_type": "code",
   "execution_count": 921,
   "id": "2187bceb",
   "metadata": {
    "scrolled": false
   },
   "outputs": [
    {
     "name": "stdout",
     "output_type": "stream",
     "text": [
      "Warning: Maximum number of iterations has been exceeded.\n",
      "         Current function value: 0.675010\n",
      "         Iterations: 35\n",
      "maximum p-value is for : \n",
      " uhnd[T.r]:C(vf)[T.2]    1.0\n",
      "dtype: float64\n"
     ]
    },
    {
     "name": "stderr",
     "output_type": "stream",
     "text": [
      "C:\\Users\\MAHYAR\\anaconda3\\envs\\DA\\lib\\site-packages\\statsmodels\\base\\model.py:604: ConvergenceWarning: Maximum Likelihood optimization failed to converge. Check mle_retvals\n",
      "  warnings.warn(\"Maximum Likelihood optimization failed to \"\n"
     ]
    }
   ],
   "source": [
    "lr_model7 = logit('''acc ~ pos + hndns + eye + sex + C(ecc) + C(vf) + C(udh) + pos*uhnd + pos*hndns + \n",
    "                           pos*eye + pos*sex + pos*C(ecc) + pos*C(vf) + pos*C(udh) + \n",
    "                           uhnd*eye + uhnd*sex + uhnd*C(ecc) + uhnd*C(vf) + uhnd*C(udh) + hndns*eye + hndns*sex + \n",
    "                           hndns*C(ecc) + hndns*C(vf) + eye*sex + eye*C(vf) + eye*C(udh) + \n",
    "                           sex*C(ecc) + sex*C(vf) + sex*C(udh) + C(ecc)*C(udh)''', data = EDA_df).fit()\n",
    "\n",
    "print('maximum p-value is for :', '\\n', lr_model7.pvalues.sort_values(ascending=False)[:1])"
   ]
  },
  {
   "cell_type": "code",
   "execution_count": 922,
   "id": "c35d1196",
   "metadata": {
    "scrolled": false
   },
   "outputs": [
    {
     "name": "stdout",
     "output_type": "stream",
     "text": [
      "Warning: Maximum number of iterations has been exceeded.\n",
      "         Current function value: 0.675031\n",
      "         Iterations: 35\n",
      "maximum p-value is for : \n",
      " sex[T.m]:C(vf)[T.2]    1.0\n",
      "dtype: float64\n"
     ]
    },
    {
     "name": "stderr",
     "output_type": "stream",
     "text": [
      "C:\\Users\\MAHYAR\\anaconda3\\envs\\DA\\lib\\site-packages\\statsmodels\\base\\model.py:604: ConvergenceWarning: Maximum Likelihood optimization failed to converge. Check mle_retvals\n",
      "  warnings.warn(\"Maximum Likelihood optimization failed to \"\n"
     ]
    }
   ],
   "source": [
    "lr_model8 = logit('''acc ~ pos + hndns + eye + sex + C(ecc) + C(vf) + C(udh) + pos*uhnd + pos*hndns + \n",
    "                           pos*eye + pos*sex + pos*C(ecc) + pos*C(vf) + pos*C(udh) + \n",
    "                           uhnd*eye + uhnd*sex + uhnd*C(ecc) + uhnd*C(udh) + hndns*eye + hndns*sex + \n",
    "                           hndns*C(ecc) + hndns*C(vf) + eye*sex + eye*C(vf) + eye*C(udh) + \n",
    "                           sex*C(ecc) + sex*C(vf) + sex*C(udh) + C(ecc)*C(udh)''', data = EDA_df).fit()\n",
    "\n",
    "print('maximum p-value is for :', '\\n', lr_model8.pvalues.sort_values(ascending=False)[:1])"
   ]
  },
  {
   "cell_type": "code",
   "execution_count": 923,
   "id": "2721af38",
   "metadata": {
    "scrolled": false
   },
   "outputs": [
    {
     "name": "stdout",
     "output_type": "stream",
     "text": [
      "Warning: Maximum number of iterations has been exceeded.\n",
      "         Current function value: 0.675045\n",
      "         Iterations: 35\n",
      "maximum p-value is for : \n",
      " pos:C(vf)[T.2]    1.0\n",
      "dtype: float64\n"
     ]
    },
    {
     "name": "stderr",
     "output_type": "stream",
     "text": [
      "C:\\Users\\MAHYAR\\anaconda3\\envs\\DA\\lib\\site-packages\\statsmodels\\base\\model.py:604: ConvergenceWarning: Maximum Likelihood optimization failed to converge. Check mle_retvals\n",
      "  warnings.warn(\"Maximum Likelihood optimization failed to \"\n"
     ]
    }
   ],
   "source": [
    "lr_model9 = logit('''acc ~ pos + hndns + eye + sex + C(ecc) + C(vf) + C(udh) + pos*uhnd + pos*hndns + \n",
    "                           pos*eye + pos*sex + pos*C(ecc) + pos*C(vf) + pos*C(udh) + \n",
    "                           uhnd*eye + uhnd*sex + uhnd*C(ecc) + uhnd*C(udh) + hndns*eye + hndns*sex + \n",
    "                           hndns*C(ecc) + hndns*C(vf) + eye*sex + eye*C(vf) + eye*C(udh) + \n",
    "                           sex*C(ecc) + sex*C(udh) + C(ecc)*C(udh)''', data = EDA_df).fit()\n",
    "\n",
    "print('maximum p-value is for :', '\\n', lr_model9.pvalues.sort_values(ascending=False)[:1])"
   ]
  },
  {
   "cell_type": "code",
   "execution_count": 924,
   "id": "964e077f",
   "metadata": {
    "scrolled": false
   },
   "outputs": [
    {
     "name": "stdout",
     "output_type": "stream",
     "text": [
      "Warning: Maximum number of iterations has been exceeded.\n",
      "         Current function value: 0.675055\n",
      "         Iterations: 35\n",
      "maximum p-value is for : \n",
      " sex[T.m]:C(ecc)[T.2]    0.988787\n",
      "dtype: float64\n"
     ]
    },
    {
     "name": "stderr",
     "output_type": "stream",
     "text": [
      "C:\\Users\\MAHYAR\\anaconda3\\envs\\DA\\lib\\site-packages\\statsmodels\\base\\model.py:604: ConvergenceWarning: Maximum Likelihood optimization failed to converge. Check mle_retvals\n",
      "  warnings.warn(\"Maximum Likelihood optimization failed to \"\n"
     ]
    }
   ],
   "source": [
    "lr_model10 = logit('''acc ~ pos + hndns + eye + sex + C(ecc) + C(vf) + C(udh) + pos*uhnd + pos*hndns + \n",
    "                           pos*eye + pos*sex + pos*C(ecc) + pos*C(udh) + \n",
    "                           uhnd*eye + uhnd*sex + uhnd*C(ecc) + uhnd*C(udh) + hndns*eye + hndns*sex + \n",
    "                           hndns*C(ecc) + hndns*C(vf) + eye*sex + eye*C(vf) + eye*C(udh) + \n",
    "                           sex*C(ecc) + sex*C(udh) + C(ecc)*C(udh)''', data = EDA_df).fit()\n",
    "\n",
    "print('maximum p-value is for :', '\\n', lr_model10.pvalues.sort_values(ascending=False)[:1])"
   ]
  },
  {
   "cell_type": "code",
   "execution_count": 925,
   "id": "05290dfb",
   "metadata": {
    "scrolled": true
   },
   "outputs": [
    {
     "name": "stdout",
     "output_type": "stream",
     "text": [
      "Warning: Maximum number of iterations has been exceeded.\n",
      "         Current function value: 0.675063\n",
      "         Iterations: 35\n",
      "maximum p-value is for : \n",
      " uhnd[T.r]    1.0\n",
      "dtype: float64\n"
     ]
    },
    {
     "name": "stderr",
     "output_type": "stream",
     "text": [
      "C:\\Users\\MAHYAR\\anaconda3\\envs\\DA\\lib\\site-packages\\statsmodels\\base\\model.py:604: ConvergenceWarning: Maximum Likelihood optimization failed to converge. Check mle_retvals\n",
      "  warnings.warn(\"Maximum Likelihood optimization failed to \"\n"
     ]
    }
   ],
   "source": [
    "lr_model11 = logit('''acc ~ pos + hndns + eye + sex + C(ecc) + C(vf) + C(udh) + pos*uhnd + pos*hndns + \n",
    "                           pos*eye + pos*sex + pos*C(ecc) + pos*C(udh) + \n",
    "                           uhnd*eye + uhnd*sex + uhnd*C(ecc) + uhnd*C(udh) + hndns*eye + hndns*sex + \n",
    "                           hndns*C(ecc) + hndns*C(vf) + eye*sex + eye*C(vf) + eye*C(udh) + \n",
    "                           sex*C(udh) + C(ecc)*C(udh)''', data = EDA_df).fit()\n",
    "\n",
    "print('maximum p-value is for :', '\\n', lr_model11.pvalues.sort_values(ascending=False)[:1])"
   ]
  },
  {
   "cell_type": "code",
   "execution_count": 926,
   "id": "35931d15",
   "metadata": {
    "scrolled": true
   },
   "outputs": [
    {
     "name": "stdout",
     "output_type": "stream",
     "text": [
      "Warning: Maximum number of iterations has been exceeded.\n",
      "         Current function value: 0.675063\n",
      "         Iterations: 35\n",
      "maximum p-value is for : \n",
      " pos:C(ecc)[T.1]    1.0\n",
      "dtype: float64\n"
     ]
    },
    {
     "name": "stderr",
     "output_type": "stream",
     "text": [
      "C:\\Users\\MAHYAR\\anaconda3\\envs\\DA\\lib\\site-packages\\statsmodels\\base\\model.py:604: ConvergenceWarning: Maximum Likelihood optimization failed to converge. Check mle_retvals\n",
      "  warnings.warn(\"Maximum Likelihood optimization failed to \"\n"
     ]
    }
   ],
   "source": [
    "lr_model12 = logit('''acc ~ pos + hndns + eye + sex + C(ecc) + C(vf) + C(udh) + pos*hndns + \n",
    "                           pos*eye + pos*sex + pos*C(ecc) + pos*C(udh) + \n",
    "                           uhnd*eye + uhnd*sex + uhnd*C(ecc) + uhnd*C(udh) + hndns*eye + hndns*sex + \n",
    "                           hndns*C(ecc) + hndns*C(vf) + eye*sex + eye*C(vf) + eye*C(udh) + \n",
    "                           sex*C(udh) + C(ecc)*C(udh)''', data = EDA_df).fit()\n",
    "\n",
    "print('maximum p-value is for :', '\\n', lr_model12.pvalues.sort_values(ascending=False)[:1])"
   ]
  },
  {
   "cell_type": "code",
   "execution_count": 927,
   "id": "ef5d27ea",
   "metadata": {
    "scrolled": true
   },
   "outputs": [
    {
     "name": "stdout",
     "output_type": "stream",
     "text": [
      "Warning: Maximum number of iterations has been exceeded.\n",
      "         Current function value: 0.675064\n",
      "         Iterations: 35\n",
      "maximum p-value is for : \n",
      " hndns[T.r]    1.0\n",
      "dtype: float64\n"
     ]
    },
    {
     "name": "stderr",
     "output_type": "stream",
     "text": [
      "C:\\Users\\MAHYAR\\anaconda3\\envs\\DA\\lib\\site-packages\\statsmodels\\base\\model.py:604: ConvergenceWarning: Maximum Likelihood optimization failed to converge. Check mle_retvals\n",
      "  warnings.warn(\"Maximum Likelihood optimization failed to \"\n"
     ]
    }
   ],
   "source": [
    "lr_model13 = logit('''acc ~ pos + hndns + eye + sex + C(ecc) + C(vf) + C(udh) + pos*hndns + \n",
    "                           pos*eye + pos*sex + pos*C(udh) + \n",
    "                           uhnd*eye + uhnd*sex + uhnd*C(ecc) + uhnd*C(udh) + hndns*eye + hndns*sex + \n",
    "                           hndns*C(ecc) + hndns*C(vf) + eye*sex + eye*C(vf) + eye*C(udh) + \n",
    "                           sex*C(udh) + C(ecc)*C(udh)''', data = EDA_df).fit()\n",
    "\n",
    "print('maximum p-value is for :', '\\n', lr_model13.pvalues.sort_values(ascending=False)[:1])"
   ]
  },
  {
   "cell_type": "code",
   "execution_count": 928,
   "id": "9c389560",
   "metadata": {
    "scrolled": true
   },
   "outputs": [
    {
     "name": "stdout",
     "output_type": "stream",
     "text": [
      "Warning: Maximum number of iterations has been exceeded.\n",
      "         Current function value: 0.675064\n",
      "         Iterations: 35\n",
      "maximum p-value is for : \n",
      " hndns[T.r]:C(vf)[T.3]    1.0\n",
      "dtype: float64\n"
     ]
    },
    {
     "name": "stderr",
     "output_type": "stream",
     "text": [
      "C:\\Users\\MAHYAR\\anaconda3\\envs\\DA\\lib\\site-packages\\statsmodels\\base\\model.py:604: ConvergenceWarning: Maximum Likelihood optimization failed to converge. Check mle_retvals\n",
      "  warnings.warn(\"Maximum Likelihood optimization failed to \"\n"
     ]
    }
   ],
   "source": [
    "lr_model14 = logit('''acc ~ pos + eye + sex + C(ecc) + C(vf) + C(udh) + pos*hndns + \n",
    "                           pos*eye + pos*sex + pos*C(udh) + \n",
    "                           uhnd*eye + uhnd*sex + uhnd*C(ecc) + uhnd*C(udh) + hndns*eye + hndns*sex + \n",
    "                           hndns*C(ecc) + hndns*C(vf) + eye*sex + eye*C(vf) + eye*C(udh) + \n",
    "                           sex*C(udh) + C(ecc)*C(udh)''', data = EDA_df).fit()\n",
    "\n",
    "print('maximum p-value is for :', '\\n', lr_model14.pvalues.sort_values(ascending=False)[:1])"
   ]
  },
  {
   "cell_type": "code",
   "execution_count": 929,
   "id": "99bc9924",
   "metadata": {
    "scrolled": true
   },
   "outputs": [
    {
     "name": "stdout",
     "output_type": "stream",
     "text": [
      "Warning: Maximum number of iterations has been exceeded.\n",
      "         Current function value: 0.675073\n",
      "         Iterations: 35\n",
      "maximum p-value is for : \n",
      " C(vf)[T.4]    1.0\n",
      "dtype: float64\n"
     ]
    },
    {
     "name": "stderr",
     "output_type": "stream",
     "text": [
      "C:\\Users\\MAHYAR\\anaconda3\\envs\\DA\\lib\\site-packages\\statsmodels\\base\\model.py:604: ConvergenceWarning: Maximum Likelihood optimization failed to converge. Check mle_retvals\n",
      "  warnings.warn(\"Maximum Likelihood optimization failed to \"\n"
     ]
    }
   ],
   "source": [
    "lr_model15 = logit('''acc ~ pos + eye + sex + C(ecc) + C(vf) + C(udh) + pos*hndns + \n",
    "                           pos*eye + pos*sex + pos*C(udh) + \n",
    "                           uhnd*eye + uhnd*sex + uhnd*C(ecc) + uhnd*C(udh) + hndns*eye + hndns*sex + \n",
    "                           hndns*C(ecc) + eye*sex + eye*C(vf) + eye*C(udh) + \n",
    "                           sex*C(udh) + C(ecc)*C(udh)''', data = EDA_df).fit()\n",
    "\n",
    "print('maximum p-value is for :', '\\n', lr_model15.pvalues.sort_values(ascending=False)[:1])"
   ]
  },
  {
   "cell_type": "code",
   "execution_count": 930,
   "id": "48456ebd",
   "metadata": {
    "scrolled": true
   },
   "outputs": [
    {
     "name": "stdout",
     "output_type": "stream",
     "text": [
      "Warning: Maximum number of iterations has been exceeded.\n",
      "         Current function value: 0.675073\n",
      "         Iterations: 35\n",
      "maximum p-value is for : \n",
      " uhnd[T.r]    1.0\n",
      "dtype: float64\n"
     ]
    },
    {
     "name": "stderr",
     "output_type": "stream",
     "text": [
      "C:\\Users\\MAHYAR\\anaconda3\\envs\\DA\\lib\\site-packages\\statsmodels\\base\\model.py:604: ConvergenceWarning: Maximum Likelihood optimization failed to converge. Check mle_retvals\n",
      "  warnings.warn(\"Maximum Likelihood optimization failed to \"\n"
     ]
    }
   ],
   "source": [
    "lr_model16 = logit('''acc ~ pos + eye + sex + C(ecc) + C(udh) + pos*hndns + \n",
    "                           pos*eye + pos*sex + pos*C(udh) + \n",
    "                           uhnd*eye + uhnd*sex + uhnd*C(ecc) + uhnd*C(udh) + hndns*eye + hndns*sex + \n",
    "                           hndns*C(ecc) + eye*sex + eye*C(vf) + eye*C(udh) + \n",
    "                           sex*C(udh) + C(ecc)*C(udh)''', data = EDA_df).fit()\n",
    "\n",
    "print('maximum p-value is for :', '\\n', lr_model16.pvalues.sort_values(ascending=False)[:1])"
   ]
  },
  {
   "cell_type": "code",
   "execution_count": 931,
   "id": "36a65cae",
   "metadata": {
    "scrolled": true
   },
   "outputs": [
    {
     "name": "stdout",
     "output_type": "stream",
     "text": [
      "Warning: Maximum number of iterations has been exceeded.\n",
      "         Current function value: 0.675073\n",
      "         Iterations: 35\n",
      "maximum p-value is for : \n",
      " uhnd[T.r]:C(udh)[T.1]    1.0\n",
      "dtype: float64\n"
     ]
    },
    {
     "name": "stderr",
     "output_type": "stream",
     "text": [
      "C:\\Users\\MAHYAR\\anaconda3\\envs\\DA\\lib\\site-packages\\statsmodels\\base\\model.py:604: ConvergenceWarning: Maximum Likelihood optimization failed to converge. Check mle_retvals\n",
      "  warnings.warn(\"Maximum Likelihood optimization failed to \"\n"
     ]
    }
   ],
   "source": [
    "lr_model17 = logit('''acc ~ pos + eye + sex + C(ecc) + C(udh) + pos*hndns + \n",
    "                           pos*eye + pos*sex + pos*C(udh) + \n",
    "                           uhnd*sex + uhnd*C(ecc) + uhnd*C(udh) + hndns*eye + hndns*sex + \n",
    "                           hndns*C(ecc) + eye*sex + eye*C(vf) + eye*C(udh) + \n",
    "                           sex*C(udh) + C(ecc)*C(udh)''', data = EDA_df).fit()\n",
    "\n",
    "print('maximum p-value is for :', '\\n', lr_model17.pvalues.sort_values(ascending=False)[:1])"
   ]
  },
  {
   "cell_type": "code",
   "execution_count": 933,
   "id": "94bad7a6",
   "metadata": {
    "scrolled": true
   },
   "outputs": [
    {
     "name": "stdout",
     "output_type": "stream",
     "text": [
      "Warning: Maximum number of iterations has been exceeded.\n",
      "         Current function value: 0.675073\n",
      "         Iterations: 35\n",
      "maximum p-value is for : \n",
      " C(vf)[T.4]    1.0\n",
      "dtype: float64\n"
     ]
    },
    {
     "name": "stderr",
     "output_type": "stream",
     "text": [
      "C:\\Users\\MAHYAR\\anaconda3\\envs\\DA\\lib\\site-packages\\statsmodels\\base\\model.py:604: ConvergenceWarning: Maximum Likelihood optimization failed to converge. Check mle_retvals\n",
      "  warnings.warn(\"Maximum Likelihood optimization failed to \"\n"
     ]
    }
   ],
   "source": [
    "lr_model18 = logit('''acc ~ pos + eye + sex + C(ecc) + C(udh) + pos*hndns + \n",
    "                           pos*eye + pos*sex + pos*C(udh) + uhnd*sex + uhnd*C(ecc) + hndns*eye + hndns*sex + \n",
    "                           hndns*C(ecc) + eye*sex + eye*C(vf) + eye*C(udh) + \n",
    "                           sex*C(udh) + C(ecc)*C(udh)''', data = EDA_df).fit()\n",
    "\n",
    "print('maximum p-value is for :', '\\n', lr_model18.pvalues.sort_values(ascending=False)[:1])"
   ]
  },
  {
   "cell_type": "code",
   "execution_count": 934,
   "id": "632653b6",
   "metadata": {
    "scrolled": true
   },
   "outputs": [
    {
     "name": "stdout",
     "output_type": "stream",
     "text": [
      "Warning: Maximum number of iterations has been exceeded.\n",
      "         Current function value: 0.675160\n",
      "         Iterations: 35\n",
      "maximum p-value is for : \n",
      " C(ecc)[T.2]:C(udh)[T.1]    0.848718\n",
      "dtype: float64\n"
     ]
    },
    {
     "name": "stderr",
     "output_type": "stream",
     "text": [
      "C:\\Users\\MAHYAR\\anaconda3\\envs\\DA\\lib\\site-packages\\statsmodels\\base\\model.py:604: ConvergenceWarning: Maximum Likelihood optimization failed to converge. Check mle_retvals\n",
      "  warnings.warn(\"Maximum Likelihood optimization failed to \"\n"
     ]
    }
   ],
   "source": [
    "lr_model19 = logit('''acc ~ pos + eye + sex + C(ecc) + C(udh) + pos*hndns + \n",
    "                           pos*eye + pos*sex + pos*C(udh) + uhnd*sex + uhnd*C(ecc) + hndns*eye + hndns*sex + \n",
    "                           hndns*C(ecc) + eye*sex + eye*C(udh) + \n",
    "                           sex*C(udh) + C(ecc)*C(udh)''', data = EDA_df).fit()\n",
    "\n",
    "print('maximum p-value is for :', '\\n', lr_model19.pvalues.sort_values(ascending=False)[:1])"
   ]
  },
  {
   "cell_type": "code",
   "execution_count": 935,
   "id": "ed066b2c",
   "metadata": {
    "scrolled": true
   },
   "outputs": [
    {
     "name": "stdout",
     "output_type": "stream",
     "text": [
      "Warning: Maximum number of iterations has been exceeded.\n",
      "         Current function value: 0.675162\n",
      "         Iterations: 35\n",
      "maximum p-value is for : \n",
      " hndns[T.r]    1.0\n",
      "dtype: float64\n"
     ]
    },
    {
     "name": "stderr",
     "output_type": "stream",
     "text": [
      "C:\\Users\\MAHYAR\\anaconda3\\envs\\DA\\lib\\site-packages\\statsmodels\\base\\model.py:604: ConvergenceWarning: Maximum Likelihood optimization failed to converge. Check mle_retvals\n",
      "  warnings.warn(\"Maximum Likelihood optimization failed to \"\n"
     ]
    }
   ],
   "source": [
    "lr_model20 = logit('''acc ~ pos + eye + sex + C(ecc) + C(udh) + pos*hndns + \n",
    "                           pos*eye + pos*sex + pos*C(udh) + uhnd*sex + uhnd*C(ecc) + hndns*eye + hndns*sex + \n",
    "                           hndns*C(ecc) + eye*sex + eye*C(udh) + \n",
    "                           sex*C(udh)''', data = EDA_df).fit()\n",
    "\n",
    "print('maximum p-value is for :', '\\n', lr_model20.pvalues.sort_values(ascending=False)[:1])"
   ]
  },
  {
   "cell_type": "code",
   "execution_count": 936,
   "id": "96616158",
   "metadata": {
    "scrolled": true
   },
   "outputs": [
    {
     "name": "stdout",
     "output_type": "stream",
     "text": [
      "Warning: Maximum number of iterations has been exceeded.\n",
      "         Current function value: 0.675186\n",
      "         Iterations: 35\n",
      "maximum p-value is for : \n",
      " sex[T.m]:C(udh)[T.1]    1.0\n",
      "dtype: float64\n"
     ]
    },
    {
     "name": "stderr",
     "output_type": "stream",
     "text": [
      "C:\\Users\\MAHYAR\\anaconda3\\envs\\DA\\lib\\site-packages\\statsmodels\\base\\model.py:604: ConvergenceWarning: Maximum Likelihood optimization failed to converge. Check mle_retvals\n",
      "  warnings.warn(\"Maximum Likelihood optimization failed to \"\n"
     ]
    }
   ],
   "source": [
    "lr_model21 = logit('''acc ~ pos + eye + sex + C(ecc) + C(udh) + \n",
    "                           pos*eye + pos*sex + pos*C(udh) + uhnd*sex + uhnd*C(ecc) + hndns*eye + hndns*sex + \n",
    "                           hndns*C(ecc) + eye*sex + eye*C(udh) + \n",
    "                           sex*C(udh)''', data = EDA_df).fit()\n",
    "\n",
    "print('maximum p-value is for :', '\\n', lr_model21.pvalues.sort_values(ascending=False)[:1])"
   ]
  },
  {
   "cell_type": "code",
   "execution_count": 937,
   "id": "bd860d27",
   "metadata": {
    "scrolled": true
   },
   "outputs": [
    {
     "name": "stdout",
     "output_type": "stream",
     "text": [
      "Warning: Maximum number of iterations has been exceeded.\n",
      "         Current function value: 0.675186\n",
      "         Iterations: 35\n",
      "maximum p-value is for : \n",
      " pos:eye[T.r]    0.90464\n",
      "dtype: float64\n"
     ]
    },
    {
     "name": "stderr",
     "output_type": "stream",
     "text": [
      "C:\\Users\\MAHYAR\\anaconda3\\envs\\DA\\lib\\site-packages\\statsmodels\\base\\model.py:604: ConvergenceWarning: Maximum Likelihood optimization failed to converge. Check mle_retvals\n",
      "  warnings.warn(\"Maximum Likelihood optimization failed to \"\n"
     ]
    }
   ],
   "source": [
    "lr_model22 = logit('''acc ~ pos + eye + sex + C(ecc) + C(udh) + \n",
    "                           pos*eye + pos*sex + pos*C(udh) + uhnd*sex + uhnd*C(ecc) + hndns*eye + hndns*sex + \n",
    "                           hndns*C(ecc) + eye*sex + eye*C(udh)''', data = EDA_df).fit()\n",
    "\n",
    "print('maximum p-value is for :', '\\n', lr_model22.pvalues.sort_values(ascending=False)[:1])"
   ]
  },
  {
   "cell_type": "code",
   "execution_count": 938,
   "id": "f2da3db3",
   "metadata": {
    "scrolled": true
   },
   "outputs": [
    {
     "name": "stdout",
     "output_type": "stream",
     "text": [
      "Optimization terminated successfully.\n",
      "         Current function value: 0.675186\n",
      "         Iterations 22\n",
      "maximum p-value is for : \n",
      " hndns[T.r]    1.0\n",
      "dtype: float64\n"
     ]
    }
   ],
   "source": [
    "lr_model23 = logit('''acc ~ pos + eye + sex + C(ecc) + C(udh) + \n",
    "                           pos*sex + pos*C(udh) + uhnd*sex + uhnd*C(ecc) + hndns*eye + hndns*sex + \n",
    "                           hndns*C(ecc) + eye*sex + eye*C(udh)''', data = EDA_df).fit()\n",
    "\n",
    "print('maximum p-value is for :', '\\n', lr_model23.pvalues.sort_values(ascending=False)[:1])"
   ]
  },
  {
   "cell_type": "code",
   "execution_count": 939,
   "id": "617a34e1",
   "metadata": {
    "scrolled": true
   },
   "outputs": [
    {
     "name": "stdout",
     "output_type": "stream",
     "text": [
      "Optimization terminated successfully.\n",
      "         Current function value: 0.675372\n",
      "         Iterations 31\n",
      "maximum p-value is for : \n",
      " eye[T.r]:C(udh)[T.1]    0.765771\n",
      "dtype: float64\n"
     ]
    }
   ],
   "source": [
    "lr_model24 = logit('''acc ~ pos + eye + sex + C(ecc) + C(udh) + \n",
    "                           pos*sex + pos*C(udh) + uhnd*sex + uhnd*C(ecc) + hndns*sex + \n",
    "                           hndns*C(ecc) + eye*sex + eye*C(udh)''', data = EDA_df).fit()\n",
    "\n",
    "print('maximum p-value is for :', '\\n', lr_model24.pvalues.sort_values(ascending=False)[:1])"
   ]
  },
  {
   "cell_type": "code",
   "execution_count": 940,
   "id": "6e0b806f",
   "metadata": {
    "scrolled": true
   },
   "outputs": [
    {
     "name": "stdout",
     "output_type": "stream",
     "text": [
      "Warning: Maximum number of iterations has been exceeded.\n",
      "         Current function value: 0.675373\n",
      "         Iterations: 35\n",
      "maximum p-value is for : \n",
      " uhnd[T.r]:sex[T.m]    0.747082\n",
      "dtype: float64\n"
     ]
    },
    {
     "name": "stderr",
     "output_type": "stream",
     "text": [
      "C:\\Users\\MAHYAR\\anaconda3\\envs\\DA\\lib\\site-packages\\statsmodels\\base\\model.py:604: ConvergenceWarning: Maximum Likelihood optimization failed to converge. Check mle_retvals\n",
      "  warnings.warn(\"Maximum Likelihood optimization failed to \"\n"
     ]
    }
   ],
   "source": [
    "lr_model25 = logit('''acc ~ pos + eye + sex + C(ecc) + C(udh) + \n",
    "                           pos*sex + pos*C(udh) + uhnd*sex + uhnd*C(ecc) + hndns*sex + \n",
    "                           hndns*C(ecc) + eye*sex''', data = EDA_df).fit()\n",
    "\n",
    "print('maximum p-value is for :', '\\n', lr_model25.pvalues.sort_values(ascending=False)[:1])"
   ]
  },
  {
   "cell_type": "code",
   "execution_count": 941,
   "id": "bd2c1f2a",
   "metadata": {
    "scrolled": true
   },
   "outputs": [
    {
     "name": "stdout",
     "output_type": "stream",
     "text": [
      "Warning: Maximum number of iterations has been exceeded.\n",
      "         Current function value: 0.675373\n",
      "         Iterations: 35\n",
      "maximum p-value is for : \n",
      " hndns[T.r]:sex[T.m]    1.0\n",
      "dtype: float64\n"
     ]
    },
    {
     "name": "stderr",
     "output_type": "stream",
     "text": [
      "C:\\Users\\MAHYAR\\anaconda3\\envs\\DA\\lib\\site-packages\\statsmodels\\base\\model.py:604: ConvergenceWarning: Maximum Likelihood optimization failed to converge. Check mle_retvals\n",
      "  warnings.warn(\"Maximum Likelihood optimization failed to \"\n"
     ]
    }
   ],
   "source": [
    "lr_model26 = logit('''acc ~ pos + eye + sex + C(ecc) + C(udh) + \n",
    "                           pos*sex + pos*C(udh) + uhnd*C(ecc) + hndns*sex + \n",
    "                           hndns*C(ecc) + eye*sex''', data = EDA_df).fit()\n",
    "\n",
    "print('maximum p-value is for :', '\\n', lr_model26.pvalues.sort_values(ascending=False)[:1])"
   ]
  },
  {
   "cell_type": "code",
   "execution_count": 942,
   "id": "159d8e3c",
   "metadata": {
    "scrolled": true
   },
   "outputs": [
    {
     "name": "stdout",
     "output_type": "stream",
     "text": [
      "Optimization terminated successfully.\n",
      "         Current function value: 0.675373\n",
      "         Iterations 4\n",
      "maximum p-value is for : \n",
      " C(ecc)[T.1]    0.487247\n",
      "dtype: float64\n"
     ]
    }
   ],
   "source": [
    "lr_model27 = logit('''acc ~ pos + eye + sex + C(ecc) + C(udh) + \n",
    "                           pos*sex + pos*C(udh) + uhnd*C(ecc) + hndns*C(ecc) + eye*sex''', data = EDA_df).fit()\n",
    "\n",
    "print('maximum p-value is for :', '\\n', lr_model27.pvalues.sort_values(ascending=False)[:1])"
   ]
  },
  {
   "cell_type": "code",
   "execution_count": 943,
   "id": "3198b009",
   "metadata": {
    "scrolled": true
   },
   "outputs": [
    {
     "name": "stdout",
     "output_type": "stream",
     "text": [
      "Optimization terminated successfully.\n",
      "         Current function value: 0.675373\n",
      "         Iterations 4\n",
      "maximum p-value is for : \n",
      " C(ecc)[T.1]    0.487247\n",
      "dtype: float64\n"
     ]
    }
   ],
   "source": [
    "lr_model28 = logit('''acc ~ pos + eye + sex + C(udh) + \n",
    "                           pos*sex + pos*C(udh) + uhnd*C(ecc) + hndns*C(ecc) + eye*sex''', data = EDA_df).fit()\n",
    "\n",
    "print('maximum p-value is for :', '\\n', lr_model28.pvalues.sort_values(ascending=False)[:1])"
   ]
  },
  {
   "cell_type": "code",
   "execution_count": 944,
   "id": "a759b2c8",
   "metadata": {
    "scrolled": true
   },
   "outputs": [
    {
     "name": "stdout",
     "output_type": "stream",
     "text": [
      "Optimization terminated successfully.\n",
      "         Current function value: 0.675379\n",
      "         Iterations 4\n",
      "maximum p-value is for : \n",
      " pos:C(udh)[T.1]    0.439214\n",
      "dtype: float64\n"
     ]
    }
   ],
   "source": [
    "lr_model29 = logit('''acc ~ pos + eye + sex + C(udh) + \n",
    "                           pos*sex + pos*C(udh) + hndns*C(ecc) + eye*sex''', data = EDA_df).fit()\n",
    "\n",
    "print('maximum p-value is for :', '\\n', lr_model29.pvalues.sort_values(ascending=False)[:1])"
   ]
  },
  {
   "cell_type": "code",
   "execution_count": 945,
   "id": "65eae90b",
   "metadata": {
    "scrolled": true
   },
   "outputs": [
    {
     "name": "stdout",
     "output_type": "stream",
     "text": [
      "Optimization terminated successfully.\n",
      "         Current function value: 0.675382\n",
      "         Iterations 4\n",
      "maximum p-value is for : \n",
      " C(udh)[T.1]    0.372811\n",
      "dtype: float64\n"
     ]
    }
   ],
   "source": [
    "lr_model30 = logit('''acc ~ pos + eye + sex + C(udh) + \n",
    "                           pos*sex + hndns*C(ecc) + eye*sex''', data = EDA_df).fit()\n",
    "\n",
    "print('maximum p-value is for :', '\\n', lr_model30.pvalues.sort_values(ascending=False)[:1])"
   ]
  },
  {
   "cell_type": "code",
   "execution_count": 946,
   "id": "162325c5",
   "metadata": {
    "scrolled": true
   },
   "outputs": [
    {
     "name": "stdout",
     "output_type": "stream",
     "text": [
      "Optimization terminated successfully.\n",
      "         Current function value: 0.675386\n",
      "         Iterations 4\n",
      "maximum p-value is for : \n",
      " hndns[T.r]:C(ecc)[T.2]    0.290587\n",
      "dtype: float64\n"
     ]
    }
   ],
   "source": [
    "lr_model31 = logit('''acc ~ pos + eye + sex + pos*sex + hndns*C(ecc) + eye*sex''', data = EDA_df).fit()\n",
    "\n",
    "print('maximum p-value is for :', '\\n', lr_model31.pvalues.sort_values(ascending=False)[:1])"
   ]
  },
  {
   "cell_type": "code",
   "execution_count": 947,
   "id": "52415916",
   "metadata": {
    "scrolled": true
   },
   "outputs": [
    {
     "name": "stdout",
     "output_type": "stream",
     "text": [
      "Optimization terminated successfully.\n",
      "         Current function value: 0.675446\n",
      "         Iterations 4\n",
      "maximum p-value is for : \n",
      " pos    0.609735\n",
      "dtype: float64\n"
     ]
    }
   ],
   "source": [
    "lr_model32 = logit('''acc ~ pos + eye + sex + pos*sex + eye*sex''', data = EDA_df).fit()\n",
    "\n",
    "print('maximum p-value is for :', '\\n', lr_model32.pvalues.sort_values(ascending=False)[:1])"
   ]
  },
  {
   "cell_type": "code",
   "execution_count": 948,
   "id": "56b7babe",
   "metadata": {
    "scrolled": true
   },
   "outputs": [
    {
     "name": "stdout",
     "output_type": "stream",
     "text": [
      "Optimization terminated successfully.\n",
      "         Current function value: 0.675446\n",
      "         Iterations 4\n",
      "maximum p-value is for : \n",
      " pos    0.609735\n",
      "dtype: float64\n"
     ]
    }
   ],
   "source": [
    "lr_model33 = logit('''acc ~ eye + sex + pos*sex + eye*sex''', data = EDA_df).fit()\n",
    "\n",
    "print('maximum p-value is for :', '\\n', lr_model33.pvalues.sort_values(ascending=False)[:1])"
   ]
  },
  {
   "cell_type": "code",
   "execution_count": 949,
   "id": "7948d505",
   "metadata": {
    "scrolled": true
   },
   "outputs": [
    {
     "name": "stdout",
     "output_type": "stream",
     "text": [
      "Optimization terminated successfully.\n",
      "         Current function value: 0.675513\n",
      "         Iterations 4\n",
      "maximum p-value is for : \n",
      " sex[T.m]    0.016066\n",
      "dtype: float64\n"
     ]
    }
   ],
   "source": [
    "lr_model34 = logit('''acc ~ eye + sex + eye*sex''', data = EDA_df).fit()\n",
    "\n",
    "print('maximum p-value is for :', '\\n', lr_model34.pvalues.sort_values(ascending=False)[:1])"
   ]
  },
  {
   "cell_type": "code",
   "execution_count": 950,
   "id": "dac41947",
   "metadata": {},
   "outputs": [
    {
     "name": "stdout",
     "output_type": "stream",
     "text": [
      "                           Logit Regression Results                           \n",
      "==============================================================================\n",
      "Dep. Variable:                    acc   No. Observations:               100056\n",
      "Model:                          Logit   Df Residuals:                   100052\n",
      "Method:                           MLE   Df Model:                            3\n",
      "Date:                Wed, 30 Mar 2022   Pseudo R-squ.:                0.002341\n",
      "Time:                        22:48:17   Log-Likelihood:                -67589.\n",
      "converged:                       True   LL-Null:                       -67748.\n",
      "Covariance Type:            nonrobust   LLR p-value:                 1.922e-68\n",
      "=====================================================================================\n",
      "                        coef    std err          z      P>|z|      [0.025      0.975]\n",
      "-------------------------------------------------------------------------------------\n",
      "Intercept             0.2424      0.017     14.315      0.000       0.209       0.276\n",
      "eye[T.r]              0.3501      0.023     15.380      0.000       0.305       0.395\n",
      "sex[T.m]              0.0511      0.021      2.407      0.016       0.009       0.093\n",
      "eye[T.r]:sex[T.m]    -0.3026      0.028    -10.840      0.000      -0.357      -0.248\n",
      "=====================================================================================\n"
     ]
    }
   ],
   "source": [
    "print(lr_model34.summary())"
   ]
  },
  {
   "cell_type": "markdown",
   "id": "48c4e372",
   "metadata": {},
   "source": [
    "---"
   ]
  },
  {
   "cell_type": "markdown",
   "id": "7f51ebd4",
   "metadata": {},
   "source": [
    "# Psychometric Fitting"
   ]
  },
  {
   "cell_type": "code",
   "execution_count": null,
   "id": "c23ee0e1",
   "metadata": {},
   "outputs": [],
   "source": [
    "# final_df.applymap(lambda x: 0 if x in ['l','f'] else (1 if x in ['r','m'] else x))"
   ]
  },
  {
   "cell_type": "markdown",
   "id": "8f6ffe6f",
   "metadata": {},
   "source": [
    "---"
   ]
  },
  {
   "cell_type": "markdown",
   "id": "f34fe20c",
   "metadata": {},
   "source": [
    "# Spread of PSEs"
   ]
  },
  {
   "cell_type": "code",
   "execution_count": null,
   "id": "4ba7b658",
   "metadata": {},
   "outputs": [],
   "source": []
  },
  {
   "cell_type": "markdown",
   "id": "dda61120",
   "metadata": {},
   "source": [
    "---"
   ]
  },
  {
   "cell_type": "markdown",
   "id": "77a59244",
   "metadata": {},
   "source": [
    "# Reaction Time Correlation to Choice Complexity"
   ]
  },
  {
   "cell_type": "code",
   "execution_count": null,
   "id": "607dc5ef",
   "metadata": {},
   "outputs": [],
   "source": []
  },
  {
   "cell_type": "markdown",
   "id": "cae10a43",
   "metadata": {},
   "source": [
    "---"
   ]
  },
  {
   "cell_type": "markdown",
   "id": "b73daa95",
   "metadata": {},
   "source": [
    "# Representational Similarity Analysis (RSA)"
   ]
  },
  {
   "cell_type": "code",
   "execution_count": null,
   "id": "04fa8037",
   "metadata": {},
   "outputs": [],
   "source": []
  }
 ],
 "metadata": {
  "kernelspec": {
   "display_name": "Python 3 (ipykernel)",
   "language": "python",
   "name": "python3"
  },
  "language_info": {
   "codemirror_mode": {
    "name": "ipython",
    "version": 3
   },
   "file_extension": ".py",
   "mimetype": "text/x-python",
   "name": "python",
   "nbconvert_exporter": "python",
   "pygments_lexer": "ipython3",
   "version": "3.9.9"
  }
 },
 "nbformat": 4,
 "nbformat_minor": 5
}
