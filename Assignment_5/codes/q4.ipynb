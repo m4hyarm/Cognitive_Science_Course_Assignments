{
 "cells": [
  {
   "cell_type": "code",
   "execution_count": 179,
   "id": "90f7c169",
   "metadata": {},
   "outputs": [],
   "source": [
    "import scipy.io as sio\n",
    "import matplotlib.pyplot as plt\n",
    "import seaborn as sns\n",
    "from tqdm import tqdm\n",
    "import numpy as np\n",
    "import glob\n",
    "from sklearn.metrics import recall_score, confusion_matrix\n",
    "from sklearn import svm\n",
    "from sklearn.model_selection import train_test_split\n",
    "from sklearn.preprocessing import StandardScaler, MinMaxScaler"
   ]
  },
  {
   "cell_type": "markdown",
   "id": "2929708c",
   "metadata": {},
   "source": [
    "# Loading Dataset"
   ]
  },
  {
   "cell_type": "code",
   "execution_count": 180,
   "id": "71e0d28d",
   "metadata": {},
   "outputs": [],
   "source": [
    "files = glob.glob('abolqasemi dataset/S*')\n",
    "locs = sio.loadmat('abolqasemi dataset/cond.mat')['Cond'].reshape(-1)\n",
    "mats = []\n",
    "titles = []\n",
    "\n",
    "for dir in files:\n",
    "    s = sio.loadmat(dir)\n",
    "    if len(s['su']) != 0:\n",
    "        su = np.expand_dims(s['su'][0][0], axis=1)\n",
    "        mats.append(su)\n",
    "        titles.append(dir.split('\\\\')[-1])"
   ]
  },
  {
   "cell_type": "markdown",
   "id": "dcfdc789",
   "metadata": {},
   "source": [
    "# Preparing dataset"
   ]
  },
  {
   "cell_type": "code",
   "execution_count": 181,
   "id": "716ea689",
   "metadata": {},
   "outputs": [],
   "source": [
    "x = np.concatenate(mats, axis=1)[:,:,2500:5500]\n",
    "\n",
    "# locations by angle\n",
    "angles = locs.copy()\n",
    "for i in range(8):\n",
    "    angles[np.where(angles == i+9)] = i+1\n",
    "\n",
    "# locations by radius\n",
    "radiuses = locs.copy()\n",
    "radiuses[np.where(radiuses < 9)] = 1\n",
    "radiuses[np.where(radiuses > 8)] = 2\n"
   ]
  },
  {
   "cell_type": "markdown",
   "id": "3d68e86b",
   "metadata": {},
   "source": [
    "# SVM "
   ]
  },
  {
   "cell_type": "code",
   "execution_count": 184,
   "id": "94d0884b",
   "metadata": {},
   "outputs": [],
   "source": [
    "def SVM(x, y, num_trainings_per_win=200, win_len=50, stride=20):\n",
    "    num_trainings_per_win = num_trainings_per_win\n",
    "    win_len = win_len\n",
    "    stride = stride\n",
    "    num_wins = x.shape[-1]//stride\n",
    "\n",
    "    recalls = np.zeros((num_trainings_per_win, len(set(y)), num_wins))\n",
    "    confusion_mtrxs = np.zeros((num_trainings_per_win, num_wins, len(set(y)), len(set(y))))\n",
    "\n",
    "    for n in tqdm(range(num_trainings_per_win)):\n",
    "        for i, t in enumerate(np.arange(0, x.shape[-1], stride)):\n",
    "\n",
    "            # averging the time window\n",
    "            x_data = np.mean(x[:,:,t:t+win_len], 2)\n",
    "\n",
    "            # train & test splitting\n",
    "            x_train, x_test, y_train, y_test = train_test_split(x_data, y, test_size=0.25, random_state=n)\n",
    "\n",
    "            # standardizing dataset\n",
    "            sc = StandardScaler()\n",
    "            x_train = sc.fit_transform(x_train)\n",
    "            x_test = sc.transform(x_test)\n",
    "\n",
    "            # fitting model\n",
    "            model = svm.SVC(kernel='linear')\n",
    "            model.fit(x_train, y_train)\n",
    "\n",
    "            # confusion matrixes\n",
    "            y_pred = model.predict(x_test)\n",
    "            cm = confusion_matrix(y_test, y_pred)\n",
    "            confusion_mtrxs[n, i, :, :] = cm\n",
    "\n",
    "            # recalls\n",
    "            recall = recall_score(y_test, y_pred, average=None)\n",
    "            recalls[n, :, i] = recall\n",
    "    \n",
    "    return model, recalls, confusion_mtrxs"
   ]
  },
  {
   "cell_type": "markdown",
   "id": "ad97a807",
   "metadata": {},
   "source": [
    "## Locations by angle"
   ]
  },
  {
   "cell_type": "code",
   "execution_count": 190,
   "id": "8f5fa990",
   "metadata": {},
   "outputs": [
    {
     "name": "stderr",
     "output_type": "stream",
     "text": [
      "100%|████████████████████████████████████████████████████████████████████████████████| 200/200 [50:50<00:00, 15.25s/it]\n"
     ]
    }
   ],
   "source": [
    "model_angle, recalls_angle, confusion_mtrxs_angle = SVM(x, angles, num_trainings_per_win=200, win_len=50, stride=20)"
   ]
  },
  {
   "cell_type": "code",
   "execution_count": 191,
   "id": "db821597",
   "metadata": {},
   "outputs": [
    {
     "data": {
      "image/png": "[encoded data removed]",
      "text/plain": [
       "<Figure size 864x288 with 1 Axes>"
      ]
     },
     "metadata": {
      "needs_background": "light"
     },
     "output_type": "display_data"
    }
   ],
   "source": [
    "recalls_ag = np.mean(recalls_angle, 0)\n",
    "\n",
    "plt.figure(figsize=(12,4))\n",
    "plt.imshow(recalls_ag, cmap='viridis', aspect='auto')\n",
    "plt.yticks(range(8), [-135, -90, -45, 0, 45, 90, 135, 180])\n",
    "plt.xticks(np.linspace(0,150,5), np.linspace(-500,2500,5, dtype='int'))\n",
    "plt.xlabel('Time (ms)', fontsize=15)\n",
    "plt.ylabel('Preferred Location (degree)', fontsize=15)\n",
    "plt.title('Recall over Time per Angles', fontsize=25)\n",
    "plt.show()"
   ]
  },
  {
   "cell_type": "markdown",
   "id": "669f0b61",
   "metadata": {},
   "source": [
    "## Locations by radius"
   ]
  },
  {
   "cell_type": "code",
   "execution_count": 186,
   "id": "123fdcc5",
   "metadata": {},
   "outputs": [
    {
     "name": "stderr",
     "output_type": "stream",
     "text": [
      "100%|████████████████████████████████████████████████████████████████████████████████| 200/200 [26:53<00:00,  8.07s/it]\n"
     ]
    }
   ],
   "source": [
    "model_radius, recalls_radius, confusion_mtrxs_radius = SVM(x, radiuses, num_trainings_per_win=200, win_len=50, stride=20)"
   ]
  },
  {
   "cell_type": "code",
   "execution_count": 189,
   "id": "6aa74664",
   "metadata": {},
   "outputs": [
    {
     "data": {
      "image/png": "[encoded data removed]",
      "text/plain": [
       "<Figure size 864x144 with 1 Axes>"
      ]
     },
     "metadata": {
      "needs_background": "light"
     },
     "output_type": "display_data"
    }
   ],
   "source": [
    "recalls_rs = np.mean(recalls_radius, 0)\n",
    "\n",
    "plt.figure(figsize=(12,2))\n",
    "plt.imshow(recalls_rs, cmap='viridis', aspect='auto')\n",
    "plt.yticks(range(2), [1, 2])\n",
    "plt.xticks(np.linspace(0,150,5), np.linspace(-500,2500,5, dtype='int'))\n",
    "plt.xlabel('Time (ms)', fontsize=15)\n",
    "plt.ylabel('Preferred Location (degree)', fontsize=15)\n",
    "plt.title('Recall over Time per Radius', fontsize=25)\n",
    "plt.show()"
   ]
  },
  {
   "cell_type": "markdown",
   "id": "475f6b1f",
   "metadata": {},
   "source": [
    "---\n",
    "---\n",
    "---"
   ]
  }
 ],
 "metadata": {
  "kernelspec": {
   "display_name": "Python 3 (ipykernel)",
   "language": "python",
   "name": "python3"
  },
  "language_info": {
   "codemirror_mode": {
    "name": "ipython",
    "version": 3
   },
   "file_extension": ".py",
   "mimetype": "text/x-python",
   "name": "python",
   "nbconvert_exporter": "python",
   "pygments_lexer": "ipython3",
   "version": "3.9.12"
  }
 },
 "nbformat": 4,
 "nbformat_minor": 5
}
